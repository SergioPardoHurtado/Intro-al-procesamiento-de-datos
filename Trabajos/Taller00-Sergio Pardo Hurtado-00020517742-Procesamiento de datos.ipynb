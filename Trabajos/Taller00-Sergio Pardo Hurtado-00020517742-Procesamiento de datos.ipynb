{
  "cells": [
    {
      "cell_type": "markdown",
      "source": [
        "# Taller 00: Introducción a Lenguaje de Programación Python\n",
        "Curso: Procesamiento de Datos a Gran Escala\n",
        "\n",
        "Profesor: John Corredor Franco\n",
        "\n",
        "Pontificia Universidad Javeriana\n",
        "\n",
        "Estudiante: Sergio Pardo Hurtado\n",
        "\n",
        "Correo: sergio_pardo@javeriana.edu.co\n",
        "\n",
        "Carrera: Ciencia de Datos - 5to semetre\n",
        "\n",
        "Cedula: 1000714363\n",
        "\n",
        "ID: 00020517742\n",
        "\n",
        "Año 2024"
      ],
      "metadata": {
        "id": "lf4NYgHST8fq"
      }
    },
    {
      "cell_type": "markdown",
      "source": [
        "##Operaciones con Cadenas"
      ],
      "metadata": {
        "application/vnd.databricks.v1+cell": {
          "title": "",
          "showTitle": false,
          "inputWidgets": {},
          "nuid": "c5c3b9b4-1a97-4151-b056-30997a3dae8e"
        },
        "id": "BnX08ybyTOMf"
      }
    },
    {
      "cell_type": "markdown",
      "source": [
        "<h2 id=\"quiz\">Exámen sobre Cadenas</h2>"
      ],
      "metadata": {
        "application/vnd.databricks.v1+cell": {
          "title": "",
          "showTitle": false,
          "inputWidgets": {},
          "nuid": "8cfcb624-f5f8-4433-b094-7ad339e9d7ae"
        },
        "id": "R3XLm1dCTOM7"
      }
    },
    {
      "cell_type": "markdown",
      "source": [
        "¿Cual es el valor de la variable <code>A</code> después de ejecutar el siguiente código?"
      ],
      "metadata": {
        "application/vnd.databricks.v1+cell": {
          "title": "",
          "showTitle": false,
          "inputWidgets": {},
          "nuid": "8cac69a8-c656-4388-8e47-091031ce304e"
        },
        "id": "jZz7LIScTOM7"
      }
    },
    {
      "cell_type": "code",
      "source": [
        "# Escribe abajo tu código y presiona Shift+Enter para ejecutarlo\n",
        "\n",
        "A = \"1\""
      ],
      "metadata": {
        "collapsed": true,
        "application/vnd.databricks.v1+cell": {
          "title": "",
          "showTitle": false,
          "inputWidgets": {},
          "nuid": "ddb3b91a-cb39-4ff4-a4a3-dedfe6fb5ed9"
        },
        "id": "aqOMLlOwTOM8"
      },
      "outputs": [],
      "execution_count": 208
    },
    {
      "cell_type": "markdown",
      "source": [
        "**Respuesta** :\n",
        "\n",
        "El valor que le corresponderia a la letra A despues de ejecutar el anterior codigo es 1"
      ],
      "metadata": {
        "id": "ChYzhUBCTmY-"
      }
    },
    {
      "cell_type": "markdown",
      "source": [
        "¿Cual es el valor de la variable <code>B</code> después de ejecutar el siguiente código?"
      ],
      "metadata": {
        "application/vnd.databricks.v1+cell": {
          "title": "",
          "showTitle": false,
          "inputWidgets": {},
          "nuid": "4a2b11b3-7994-4d9c-9c9c-fe09ff58516e"
        },
        "id": "Z0NDGr7MTOM8"
      }
    },
    {
      "cell_type": "code",
      "source": [
        "# Escribe abajo tu código y presiona Shift+Enter para ejecutarlo\n",
        "\n",
        "B = \"2\""
      ],
      "metadata": {
        "collapsed": true,
        "application/vnd.databricks.v1+cell": {
          "title": "",
          "showTitle": false,
          "inputWidgets": {},
          "nuid": "b7b54f58-f3b7-4e87-bbe9-84fa5ef80eb7"
        },
        "id": "3runTtraTOM8"
      },
      "outputs": [],
      "execution_count": 209
    },
    {
      "cell_type": "markdown",
      "source": [
        "**Respuesta** :\n",
        "\n",
        "El valor que le corresponderia a la letra B despues de ejecutar el anterior codigo es 2"
      ],
      "metadata": {
        "id": "md7q-zrBVGwT"
      }
    },
    {
      "cell_type": "markdown",
      "source": [
        "¿Cual es el valor de la variable <code>C</code> después de ejecutar el siguiente código?"
      ],
      "metadata": {
        "application/vnd.databricks.v1+cell": {
          "title": "",
          "showTitle": false,
          "inputWidgets": {},
          "nuid": "956a96c3-9fdd-45bf-95f4-3bb6b019a3be"
        },
        "id": "LIxUcxyHTOM9"
      }
    },
    {
      "cell_type": "code",
      "source": [
        "# Escribe abajo tu código y presiona Shift+Enter para ejecutarlo\n",
        "\n",
        "C = A + B"
      ],
      "metadata": {
        "application/vnd.databricks.v1+cell": {
          "title": "",
          "showTitle": false,
          "inputWidgets": {},
          "nuid": "33186c3e-73c4-4983-ad57-127675d91e4b"
        },
        "id": "6r4zq-X9TOM9"
      },
      "outputs": [],
      "execution_count": 210
    },
    {
      "cell_type": "markdown",
      "source": [
        "**Respuesta** :\n",
        "\n",
        "El valor que le corresponderia a la letra C despues de ejecutar el anterior codigo es 12, ya que a la letra A se le asigno el valor de 1 y a la letra B se le asigno el valor 2 y al ser asignadas como texto no se hace una operacion natural de suma sino que en su lugar se pone un numero al lado del otro"
      ],
      "metadata": {
        "id": "GNsuRPU7VbHR"
      }
    },
    {
      "cell_type": "markdown",
      "source": [
        "En la variable <code>D</code> haz uso del slicing para imprimir solo los primeros tres elementos:"
      ],
      "metadata": {
        "application/vnd.databricks.v1+cell": {
          "title": "",
          "showTitle": false,
          "inputWidgets": {},
          "nuid": "1ed60bff-748e-4c67-8307-04520da43b97"
        },
        "id": "7bx87OyITOM9"
      }
    },
    {
      "cell_type": "code",
      "source": [
        "# Escribe abajo tu código y presiona Shift+Enter para ejecutarlo\n",
        "\n",
        "D = \"ABCDEFG\"\n",
        "print(D[0:3])"
      ],
      "metadata": {
        "application/vnd.databricks.v1+cell": {
          "title": "",
          "showTitle": false,
          "inputWidgets": {},
          "nuid": "0bbc3088-0e6a-4ef3-ae51-f776a7f079ad"
        },
        "colab": {
          "base_uri": "https://localhost:8080/"
        },
        "id": "gsfvYnhfTOM9",
        "outputId": "748002b3-9d95-48b5-f663-1a022685da85"
      },
      "outputs": [
        {
          "output_type": "stream",
          "name": "stdout",
          "text": [
            "ABC\n"
          ]
        }
      ],
      "execution_count": 211
    },
    {
      "cell_type": "markdown",
      "source": [
        "**Respuesta** :\n",
        "\n",
        "Se muestran los primeros 3 elementos de la variable D"
      ],
      "metadata": {
        "id": "vrQgWdBmt94Q"
      }
    },
    {
      "cell_type": "markdown",
      "source": [
        "Usa un valor de stride de 2 para imprimir cada segundo elemento de la cadena <code>E</code>:"
      ],
      "metadata": {
        "application/vnd.databricks.v1+cell": {
          "title": "",
          "showTitle": false,
          "inputWidgets": {},
          "nuid": "d4f53ebb-1961-48e4-9349-1a1cb3ed43ac"
        },
        "id": "a7OtJx5xTOM-"
      }
    },
    {
      "cell_type": "code",
      "source": [
        "# Escribe abajo tu código y presiona Shift+Enter para ejecutarlo\n",
        "\n",
        "E = 'clocrkr1e1c1t'\n",
        "print(E[::2])"
      ],
      "metadata": {
        "collapsed": true,
        "application/vnd.databricks.v1+cell": {
          "title": "",
          "showTitle": false,
          "inputWidgets": {},
          "nuid": "f317b44a-0374-4bce-a3bc-6b0d29a1c342"
        },
        "colab": {
          "base_uri": "https://localhost:8080/"
        },
        "id": "N6x9cNvFTOM-",
        "outputId": "0c7c7ea7-4ee0-4e90-9e95-73977c58252a"
      },
      "outputs": [
        {
          "output_type": "stream",
          "name": "stdout",
          "text": [
            "correct\n"
          ]
        }
      ],
      "execution_count": 212
    },
    {
      "cell_type": "markdown",
      "source": [
        "**Respuesta** :\n",
        "\n",
        "Se muestra como quedaria el contenido de la variable E si se saltaran cada 2 letras"
      ],
      "metadata": {
        "id": "I19niDlFuFx2"
      }
    },
    {
      "cell_type": "markdown",
      "source": [
        "Imprime una barra invertida:"
      ],
      "metadata": {
        "application/vnd.databricks.v1+cell": {
          "title": "",
          "showTitle": false,
          "inputWidgets": {},
          "nuid": "2169c64c-7206-4937-a581-0526a875b9d9"
        },
        "id": "3JVtpicjTOM-"
      }
    },
    {
      "cell_type": "code",
      "source": [
        "# Escribe abajo tu código y presiona Shift+Enter para ejecutarlo\n",
        "print(r\" \\ \")"
      ],
      "metadata": {
        "application/vnd.databricks.v1+cell": {
          "title": "",
          "showTitle": false,
          "inputWidgets": {},
          "nuid": "87af61d8-086c-4ca5-8684-c5573bac909c"
        },
        "colab": {
          "base_uri": "https://localhost:8080/"
        },
        "id": "XuGrxTp0TOM-",
        "outputId": "53ed8d4c-7b50-46f5-e735-e44cde680813"
      },
      "outputs": [
        {
          "output_type": "stream",
          "name": "stdout",
          "text": [
            " \\ \n"
          ]
        }
      ],
      "execution_count": 213
    },
    {
      "cell_type": "markdown",
      "source": [
        "**Respuesta** :\n",
        "\n",
        "Se imprime una barra invertida"
      ],
      "metadata": {
        "id": "ChL164Y_uNWt"
      }
    },
    {
      "cell_type": "markdown",
      "source": [
        "Convierte el mayúsculas el contenido de la variable <code>F</code>:"
      ],
      "metadata": {
        "application/vnd.databricks.v1+cell": {
          "title": "",
          "showTitle": false,
          "inputWidgets": {},
          "nuid": "6814f6cf-b035-4461-b318-7d7471cbcf94"
        },
        "id": "0sQOBnZBTOM_"
      }
    },
    {
      "cell_type": "code",
      "source": [
        "# Escribe abajo tu código y presiona Shift+Enter para ejecutarlo\n",
        "\n",
        "F = \"You are wrong\"\n",
        "F.upper()"
      ],
      "metadata": {
        "application/vnd.databricks.v1+cell": {
          "title": "",
          "showTitle": false,
          "inputWidgets": {},
          "nuid": "034ad3a9-1ef9-419d-9362-8fd0286e5f47"
        },
        "colab": {
          "base_uri": "https://localhost:8080/",
          "height": 36
        },
        "id": "8h5KZ5WiTOM_",
        "outputId": "3812147b-d5ba-45a3-9827-903b3d21090b"
      },
      "outputs": [
        {
          "output_type": "execute_result",
          "data": {
            "text/plain": [
              "'YOU ARE WRONG'"
            ],
            "application/vnd.google.colaboratory.intrinsic+json": {
              "type": "string"
            }
          },
          "metadata": {},
          "execution_count": 214
        }
      ],
      "execution_count": 214
    },
    {
      "cell_type": "markdown",
      "source": [
        "**Respuesta** :\n",
        "\n",
        "Se pone en mayuscula el contenido de la variable F"
      ],
      "metadata": {
        "id": "O3Y7Pi0WuRVU"
      }
    },
    {
      "cell_type": "markdown",
      "source": [
        "En la variable <code>G</code>, encuentra el primer índice de la sub-cadena <code>snow</code>:"
      ],
      "metadata": {
        "application/vnd.databricks.v1+cell": {
          "title": "",
          "showTitle": false,
          "inputWidgets": {},
          "nuid": "89af9572-7b2e-4344-b61b-e832bddb897c"
        },
        "id": "p7mPlqeMTOM_"
      }
    },
    {
      "cell_type": "code",
      "source": [
        "# Escribe abajo tu código y presiona Shift+Enter para ejecutarlo\n",
        "\n",
        "G = \"Mary had a little lamb Little lamb, little lamb Mary had a little lamb \\\n",
        "Its fleece was white as snow And everywhere that Mary went Mary went, Mary went \\\n",
        "Everywhere that Mary went The lamb was sure to go\"\n",
        "\n",
        "G.find('snow')"
      ],
      "metadata": {
        "application/vnd.databricks.v1+cell": {
          "title": "",
          "showTitle": false,
          "inputWidgets": {},
          "nuid": "721a128c-d297-4149-bbdd-646140d2dd59"
        },
        "colab": {
          "base_uri": "https://localhost:8080/"
        },
        "id": "Zlsitt5uTOM_",
        "outputId": "09b5343e-5db0-4348-9bc2-833dbd6c762d"
      },
      "outputs": [
        {
          "output_type": "execute_result",
          "data": {
            "text/plain": [
              "95"
            ]
          },
          "metadata": {},
          "execution_count": 215
        }
      ],
      "execution_count": 215
    },
    {
      "cell_type": "markdown",
      "source": [
        "**Respuesta** :\n",
        "\n",
        "Se representa la posicion en la que se encuentra la primera letra de la palabra snow, en este caso representa la posicion 95 que hace referencia a la primera letra de snow (s)"
      ],
      "metadata": {
        "id": "hvogWQlNuXgS"
      }
    },
    {
      "cell_type": "markdown",
      "source": [
        "En la variable <code>G</code>, reemplaza la sub-cadena <code>Mary</code> con <code>Bob</code>:"
      ],
      "metadata": {
        "application/vnd.databricks.v1+cell": {
          "title": "",
          "showTitle": false,
          "inputWidgets": {},
          "nuid": "157b212b-6b79-4fe4-9284-f9e0e1f3dcd1"
        },
        "id": "P3WJluEGTONA"
      }
    },
    {
      "cell_type": "code",
      "source": [
        "# Escribe abajo tu código y presiona Shift+Enter para ejecutarlo\n",
        "\n",
        "G.replace('Mary', 'Bob')"
      ],
      "metadata": {
        "application/vnd.databricks.v1+cell": {
          "title": "",
          "showTitle": false,
          "inputWidgets": {},
          "nuid": "ea8ee7aa-cedd-40c2-8d01-35f09d62109d"
        },
        "colab": {
          "base_uri": "https://localhost:8080/",
          "height": 36
        },
        "id": "273GQj-ATONA",
        "outputId": "9405827e-6ada-4557-9506-8a2d22e6e4b7"
      },
      "outputs": [
        {
          "output_type": "execute_result",
          "data": {
            "text/plain": [
              "'Bob had a little lamb Little lamb, little lamb Bob had a little lamb Its fleece was white as snow And everywhere that Bob went Bob went, Bob went Everywhere that Bob went The lamb was sure to go'"
            ],
            "application/vnd.google.colaboratory.intrinsic+json": {
              "type": "string"
            }
          },
          "metadata": {},
          "execution_count": 216
        }
      ],
      "execution_count": 216
    },
    {
      "cell_type": "markdown",
      "source": [
        "**Respuesta** :\n",
        "\n",
        "En todo el texto se reemplaza la palabra Mary por Bob"
      ],
      "metadata": {
        "id": "z_ysbqeUulf4"
      }
    },
    {
      "cell_type": "markdown",
      "source": [
        "##Tuplas en Python"
      ],
      "metadata": {
        "application/vnd.databricks.v1+cell": {
          "title": "",
          "showTitle": false,
          "inputWidgets": {},
          "nuid": "17ec22e7-5fd5-42ca-9dbc-1bb13ad1f5a4"
        },
        "id": "aCsRYqz7Y5Qq"
      }
    },
    {
      "cell_type": "markdown",
      "source": [
        "<h2 id=\"quiz\">Exámen sobre Tuplas</h2>"
      ],
      "metadata": {
        "application/vnd.databricks.v1+cell": {
          "title": "",
          "showTitle": false,
          "inputWidgets": {},
          "nuid": "e2561eb3-1d1f-41a5-a17e-18afc6925d1d"
        },
        "id": "IqvmslOVY5RC"
      }
    },
    {
      "cell_type": "markdown",
      "source": [
        "Considérese la siguiente tupla:"
      ],
      "metadata": {
        "application/vnd.databricks.v1+cell": {
          "title": "",
          "showTitle": false,
          "inputWidgets": {},
          "nuid": "7ff725b0-8a35-41cf-9d89-88425d0baa82"
        },
        "id": "mJ5r9vs_Y5RC"
      }
    },
    {
      "cell_type": "code",
      "source": [
        "# Tupla de ejemplo\n",
        "\n",
        "genres_tuple = (\"pop\", \"rock\", \"soul\", \"hard rock\", \"soft rock\", \\\n",
        "                \"R&B\", \"progressive rock\", \"disco\")\n",
        "genres_tuple"
      ],
      "metadata": {
        "jupyter": {
          "outputs_hidden": false
        },
        "application/vnd.databricks.v1+cell": {
          "title": "",
          "showTitle": false,
          "inputWidgets": {},
          "nuid": "297bf323-823f-4446-b6ca-55ef52d995ee"
        },
        "id": "4sUorT6LY5RD",
        "outputId": "49e415bf-c273-4614-b1b8-fb3d24e4d939",
        "colab": {
          "base_uri": "https://localhost:8080/"
        }
      },
      "outputs": [
        {
          "output_type": "execute_result",
          "data": {
            "text/plain": [
              "('pop',\n",
              " 'rock',\n",
              " 'soul',\n",
              " 'hard rock',\n",
              " 'soft rock',\n",
              " 'R&B',\n",
              " 'progressive rock',\n",
              " 'disco')"
            ]
          },
          "metadata": {},
          "execution_count": 201
        }
      ],
      "execution_count": 201
    },
    {
      "cell_type": "markdown",
      "source": [
        "Encontrar la longitud de la tupla, <code>genres_tuple</code>:"
      ],
      "metadata": {
        "application/vnd.databricks.v1+cell": {
          "title": "",
          "showTitle": false,
          "inputWidgets": {},
          "nuid": "d244b988-895f-40d9-90e0-2251a473ff54"
        },
        "id": "1GNZlAnPY5RD"
      }
    },
    {
      "cell_type": "code",
      "source": [
        "# Escribe abajo tu código y presiona Shift+Enter para ejecutarlo\n",
        "len(genres_tuple)"
      ],
      "metadata": {
        "jupyter": {
          "outputs_hidden": false
        },
        "application/vnd.databricks.v1+cell": {
          "title": "",
          "showTitle": false,
          "inputWidgets": {},
          "nuid": "b24b5ac5-e7d9-422e-a84a-48394c8c7ca3"
        },
        "id": "ECw8NFnSY5RD",
        "outputId": "33c7791e-cab0-4996-b111-1654f238b7a2",
        "colab": {
          "base_uri": "https://localhost:8080/"
        }
      },
      "outputs": [
        {
          "output_type": "execute_result",
          "data": {
            "text/plain": [
              "8"
            ]
          },
          "metadata": {},
          "execution_count": 202
        }
      ],
      "execution_count": 202
    },
    {
      "cell_type": "markdown",
      "source": [
        "**Respuesta** :\n",
        "\n",
        "Muestra la longitud de la tupla, en este caso 8"
      ],
      "metadata": {
        "id": "DHZIaZkGuxjk"
      }
    },
    {
      "cell_type": "markdown",
      "source": [
        "<img src=\"https://s3-api.us-geo.objectstorage.softlayer.net/cf-courses-data/CognitiveClass/PY0101EN/Chapter%202/Images/TuplesQuiz.png\" width=\"1100\" align=\"center\">"
      ],
      "metadata": {
        "application/vnd.databricks.v1+cell": {
          "title": "",
          "showTitle": false,
          "inputWidgets": {},
          "nuid": "78148650-c13a-495b-b37c-63cbb74ad41f"
        },
        "id": "l7vyMpdTY5RD"
      }
    },
    {
      "cell_type": "markdown",
      "source": [
        "Accede al elemento en el índice 3:"
      ],
      "metadata": {
        "application/vnd.databricks.v1+cell": {
          "title": "",
          "showTitle": false,
          "inputWidgets": {},
          "nuid": "ec47d71d-84cc-4422-88e7-a253ebe07945"
        },
        "id": "K-BO8ahaY5RE"
      }
    },
    {
      "cell_type": "code",
      "source": [
        "# Escribe abajo tu código y presiona Shift+Enter para ejecutarlo\n",
        "genres_tuple[3]"
      ],
      "metadata": {
        "jupyter": {
          "outputs_hidden": false
        },
        "application/vnd.databricks.v1+cell": {
          "title": "",
          "showTitle": false,
          "inputWidgets": {},
          "nuid": "44c71a5b-19b5-4628-a14f-6399a325d177"
        },
        "id": "7zYTHmsjY5RE",
        "outputId": "9d0d6b53-f16b-463e-a301-39b813e15859",
        "colab": {
          "base_uri": "https://localhost:8080/",
          "height": 36
        }
      },
      "outputs": [
        {
          "output_type": "execute_result",
          "data": {
            "text/plain": [
              "'hard rock'"
            ],
            "application/vnd.google.colaboratory.intrinsic+json": {
              "type": "string"
            }
          },
          "metadata": {},
          "execution_count": 203
        }
      ],
      "execution_count": 203
    },
    {
      "cell_type": "markdown",
      "source": [
        "**Respuesta** :\n",
        "\n",
        "Se accede al elemento guardado en el indice 3, que gracias al grafico podemos identificar que efectivamente es hard rock"
      ],
      "metadata": {
        "id": "ouTGOPI7u27e"
      }
    },
    {
      "cell_type": "markdown",
      "source": [
        "Utiliza el slicing para obtener los índices 3, 4 y 5:"
      ],
      "metadata": {
        "application/vnd.databricks.v1+cell": {
          "title": "",
          "showTitle": false,
          "inputWidgets": {},
          "nuid": "bd9b5565-de86-4065-9548-d365d68235f9"
        },
        "id": "T_odI5pqY5RE"
      }
    },
    {
      "cell_type": "code",
      "source": [
        "# Escribe abajo tu código y presiona Shift+Enter para ejecutarlo\n",
        "genres_tuple[3:6]"
      ],
      "metadata": {
        "jupyter": {
          "outputs_hidden": false
        },
        "application/vnd.databricks.v1+cell": {
          "title": "",
          "showTitle": false,
          "inputWidgets": {},
          "nuid": "3da462f7-dc82-4f65-8a29-d7212c5abd18"
        },
        "id": "_dfrWSrWY5RF",
        "outputId": "2a4ea7a2-a0fb-4ff8-db6d-51bfbec151f6",
        "colab": {
          "base_uri": "https://localhost:8080/"
        }
      },
      "outputs": [
        {
          "output_type": "execute_result",
          "data": {
            "text/plain": [
              "('hard rock', 'soft rock', 'R&B')"
            ]
          },
          "metadata": {},
          "execution_count": 204
        }
      ],
      "execution_count": 204
    },
    {
      "cell_type": "markdown",
      "source": [
        "**Respuesta** :\n",
        "\n",
        "Se utiliza slicing para optener los elementos guardados en los indices 3,4,5 que de la misma manera que en el anterior ejercicio, podemos corroborar que estan correctos por medio del grafico"
      ],
      "metadata": {
        "id": "WTJxRqgxvDbs"
      }
    },
    {
      "cell_type": "markdown",
      "source": [
        "Encuentra los primeros dos elementos de la tupla <code>genres_tuple</code>:"
      ],
      "metadata": {
        "application/vnd.databricks.v1+cell": {
          "title": "",
          "showTitle": false,
          "inputWidgets": {},
          "nuid": "cdda5e10-8f24-4c39-a125-56457fa4cdcf"
        },
        "id": "qTgkV9eXY5RF"
      }
    },
    {
      "cell_type": "code",
      "source": [
        "# Escribe abajo tu código y presiona Shift+Enter para ejecutarlo\n",
        "genres_tuple[0:2]"
      ],
      "metadata": {
        "jupyter": {
          "outputs_hidden": false
        },
        "application/vnd.databricks.v1+cell": {
          "title": "",
          "showTitle": false,
          "inputWidgets": {},
          "nuid": "21c5a8d4-abd2-4e0b-bf22-32ed42bad159"
        },
        "id": "Hm9oIKxGY5RF",
        "outputId": "3b23b7d3-73ac-4a78-da39-94a254b00176",
        "colab": {
          "base_uri": "https://localhost:8080/"
        }
      },
      "outputs": [
        {
          "output_type": "execute_result",
          "data": {
            "text/plain": [
              "('pop', 'rock')"
            ]
          },
          "metadata": {},
          "execution_count": 205
        }
      ],
      "execution_count": 205
    },
    {
      "cell_type": "markdown",
      "source": [
        "**Respuesta** :\n",
        "\n",
        "De igual manera encuentra los 2 primeros elementos de la tupla, mostrados correctamente"
      ],
      "metadata": {
        "id": "-anJw7AYvUT3"
      }
    },
    {
      "cell_type": "markdown",
      "source": [
        "Encuentra el primer índice de <code>\"disco\"</code>:"
      ],
      "metadata": {
        "application/vnd.databricks.v1+cell": {
          "title": "",
          "showTitle": false,
          "inputWidgets": {},
          "nuid": "0ff77f26-92fd-4bc0-b6c1-ed1ff21d370e"
        },
        "id": "HiInvF9CY5RG"
      }
    },
    {
      "cell_type": "code",
      "source": [
        "# Escribe abajo tu código y presiona Shift+Enter para ejecutarlo\n",
        "genres_tuple.index(\"disco\")"
      ],
      "metadata": {
        "jupyter": {
          "outputs_hidden": false
        },
        "application/vnd.databricks.v1+cell": {
          "title": "",
          "showTitle": false,
          "inputWidgets": {},
          "nuid": "675b5d81-5b90-4c7f-879b-2c89b84a06ce"
        },
        "id": "TCXQUPZkY5RG",
        "outputId": "f314e66a-ab5a-4c01-8840-5dc8adda2173",
        "colab": {
          "base_uri": "https://localhost:8080/"
        }
      },
      "outputs": [
        {
          "output_type": "execute_result",
          "data": {
            "text/plain": [
              "7"
            ]
          },
          "metadata": {},
          "execution_count": 206
        }
      ],
      "execution_count": 206
    },
    {
      "cell_type": "markdown",
      "source": [
        "**Respuesta** :\n",
        "\n",
        "Arroja por pantalla el index en donde se encuentra alojada la palabra disco"
      ],
      "metadata": {
        "id": "BjqWzSe6vcSP"
      }
    },
    {
      "cell_type": "markdown",
      "source": [
        "Genera una lista ordenada desde la tupla <code>C_tuple=(-5, 1, -3)</code>:"
      ],
      "metadata": {
        "application/vnd.databricks.v1+cell": {
          "title": "",
          "showTitle": false,
          "inputWidgets": {},
          "nuid": "2d789f30-7a08-415e-b162-f6bfcd75a9c6"
        },
        "id": "CMsJzXNgY5RG"
      }
    },
    {
      "cell_type": "code",
      "source": [
        "# Escribe abajo tu código y presiona Shift+Enter para ejecutarlo\n",
        "C_tuple = (-5, 1, -3)\n",
        "C_list = sorted(C_tuple)\n",
        "C_list"
      ],
      "metadata": {
        "jupyter": {
          "outputs_hidden": false
        },
        "application/vnd.databricks.v1+cell": {
          "title": "",
          "showTitle": false,
          "inputWidgets": {},
          "nuid": "ccb2137d-68c2-45bc-a1f0-e7152ad13bbb"
        },
        "id": "JDEsohGuY5RH",
        "outputId": "12113b2f-0a3e-4367-bc57-279e3cb17a35",
        "colab": {
          "base_uri": "https://localhost:8080/"
        }
      },
      "outputs": [
        {
          "output_type": "execute_result",
          "data": {
            "text/plain": [
              "[-5, -3, 1]"
            ]
          },
          "metadata": {},
          "execution_count": 207
        }
      ],
      "execution_count": 207
    },
    {
      "cell_type": "markdown",
      "source": [
        "**Respuesta** :\n",
        "\n",
        "A partir de la tupla genera una lista organizada en este caso de menor a mayor"
      ],
      "metadata": {
        "id": "3DGjXZ72vi6t"
      }
    },
    {
      "cell_type": "markdown",
      "source": [
        "##Listas en Python"
      ],
      "metadata": {
        "application/vnd.databricks.v1+cell": {
          "title": "",
          "showTitle": false,
          "inputWidgets": {},
          "nuid": "cd31e3ba-2783-4032-8aad-0319254e18db"
        },
        "id": "li-MHQsKaxux"
      }
    },
    {
      "cell_type": "markdown",
      "source": [
        "<h2 id=\"quiz\">Exámen sobre Listas</h2>"
      ],
      "metadata": {
        "application/vnd.databricks.v1+cell": {
          "title": "",
          "showTitle": false,
          "inputWidgets": {},
          "nuid": "e9517faa-54c0-4502-817d-5a74d2d2f0ce"
        },
        "id": "nGSnl7LKaxvA"
      }
    },
    {
      "cell_type": "markdown",
      "source": [
        "Crea una lista <code>a_list</code> con los siguientes elementos <code>1</code>, <code>hello</code>, <code>[1,2,3]</code> y <code>True</code>."
      ],
      "metadata": {
        "application/vnd.databricks.v1+cell": {
          "title": "",
          "showTitle": false,
          "inputWidgets": {},
          "nuid": "e959dcb7-8cc6-4dad-ac2a-d90817d8b477"
        },
        "id": "NKEW1u62axvA"
      }
    },
    {
      "cell_type": "code",
      "source": [
        "# Escribe abajo tu código y presiona Shift+Enter para ejecutarlo\n",
        "a_list=[1, 'hello', [1,2,3] , True]\n",
        "a_list"
      ],
      "metadata": {
        "application/vnd.databricks.v1+cell": {
          "title": "",
          "showTitle": false,
          "inputWidgets": {},
          "nuid": "2b05e525-1c9a-4434-a8eb-9472b237230d"
        },
        "id": "4YK0F6PbaxvA",
        "outputId": "629af6f9-1e94-400a-c5bf-9e338ab002ac",
        "colab": {
          "base_uri": "https://localhost:8080/"
        }
      },
      "outputs": [
        {
          "output_type": "execute_result",
          "data": {
            "text/plain": [
              "[1, 'hello', [1, 2, 3], True]"
            ]
          },
          "metadata": {},
          "execution_count": 197
        }
      ],
      "execution_count": 197
    },
    {
      "cell_type": "markdown",
      "source": [
        "**Respuesta** :\n",
        "\n",
        "Genera una lista con los valores indicados"
      ],
      "metadata": {
        "id": "CwmgWw2Zvr2i"
      }
    },
    {
      "cell_type": "markdown",
      "source": [
        "Encuentra el valor almacenado en el índice 1 de <code>a_list</code>."
      ],
      "metadata": {
        "application/vnd.databricks.v1+cell": {
          "title": "",
          "showTitle": false,
          "inputWidgets": {},
          "nuid": "4d33d3b9-bdbe-4cf4-afcd-093f45ec86a8"
        },
        "id": "QOh-9e4laxvB"
      }
    },
    {
      "cell_type": "code",
      "source": [
        "# Escribe abajo tu código y presiona Shift+Enter para ejecutarlo\n",
        "a_list[1]"
      ],
      "metadata": {
        "application/vnd.databricks.v1+cell": {
          "title": "",
          "showTitle": false,
          "inputWidgets": {},
          "nuid": "d1eeb457-bca6-4817-8a3d-4acfe46030df"
        },
        "id": "bARQD5qLaxvB",
        "outputId": "767e2834-f1e1-4c2f-e4c7-8940f1d7061a",
        "colab": {
          "base_uri": "https://localhost:8080/",
          "height": 0
        }
      },
      "outputs": [
        {
          "output_type": "execute_result",
          "data": {
            "text/plain": [
              "'hello'"
            ],
            "application/vnd.google.colaboratory.intrinsic+json": {
              "type": "string"
            }
          },
          "metadata": {},
          "execution_count": 198
        }
      ],
      "execution_count": 198
    },
    {
      "cell_type": "markdown",
      "source": [
        "**Respuesta** :\n",
        "\n",
        "Muestra por pantalla el valor que esta ubicado en el indice 1 de la lista"
      ],
      "metadata": {
        "id": "nz02Gh-SvwYk"
      }
    },
    {
      "cell_type": "markdown",
      "source": [
        "Obtén el elemento almacenado en el índice 1, 2 y 3 de <code>a_list</code>."
      ],
      "metadata": {
        "application/vnd.databricks.v1+cell": {
          "title": "",
          "showTitle": false,
          "inputWidgets": {},
          "nuid": "2d48cb35-3d90-400e-a747-559646dd5adb"
        },
        "id": "xYwYLfszaxvB"
      }
    },
    {
      "cell_type": "code",
      "source": [
        "# Escribe abajo tu código y presiona Shift+Enter para ejecutarlo\n",
        "a_list[1:4]"
      ],
      "metadata": {
        "colab": {
          "base_uri": "https://localhost:8080/"
        },
        "id": "gAzSMazZb-9m",
        "outputId": "f4bb56cf-31d4-4ff2-f288-ca479a72943f"
      },
      "execution_count": 199,
      "outputs": [
        {
          "output_type": "execute_result",
          "data": {
            "text/plain": [
              "['hello', [1, 2, 3], True]"
            ]
          },
          "metadata": {},
          "execution_count": 199
        }
      ]
    },
    {
      "cell_type": "markdown",
      "source": [
        "**Respuesta** :\n",
        "\n",
        "Muestra por pantalla los valores asociados a los indices 1,2,3"
      ],
      "metadata": {
        "id": "PhRteQ8Bv5Wj"
      }
    },
    {
      "cell_type": "markdown",
      "source": [
        "Concatena las siguientes listas <code>A = [1, 'a']</code> y <code>B = [2, 1, 'd']</code>:"
      ],
      "metadata": {
        "application/vnd.databricks.v1+cell": {
          "title": "",
          "showTitle": false,
          "inputWidgets": {},
          "nuid": "eaa4cf31-327b-4378-887b-ba6c61fee135"
        },
        "id": "36uf7gULaxvC"
      }
    },
    {
      "cell_type": "code",
      "source": [
        "# Escribe abajo tu código y presiona Shift+Enter para ejecutarlo\n",
        "A = [1, 'a']\n",
        "B = [2, 1, 'd']\n",
        "A+B"
      ],
      "metadata": {
        "collapsed": true,
        "application/vnd.databricks.v1+cell": {
          "title": "",
          "showTitle": false,
          "inputWidgets": {},
          "nuid": "6e9b33eb-9517-4bd5-958d-16da802ebd0e"
        },
        "id": "y9T5tuCHaxvC",
        "outputId": "1fcb5dfd-e1be-4d7f-b1da-b2b78319d4cf",
        "colab": {
          "base_uri": "https://localhost:8080/"
        }
      },
      "outputs": [
        {
          "output_type": "execute_result",
          "data": {
            "text/plain": [
              "[1, 'a', 2, 1, 'd']"
            ]
          },
          "metadata": {},
          "execution_count": 200
        }
      ],
      "execution_count": 200
    },
    {
      "cell_type": "markdown",
      "source": [
        "**Respuesta** :\n",
        "\n",
        "Concatena las listas descritas respetando el orden en que aparecen las variables"
      ],
      "metadata": {
        "id": "hrtR0kP1v_wu"
      }
    },
    {
      "cell_type": "markdown",
      "source": [
        "##Conjuntos en Python"
      ],
      "metadata": {
        "application/vnd.databricks.v1+cell": {
          "title": "",
          "showTitle": false,
          "inputWidgets": {},
          "nuid": "4182cfaa-6acc-4585-a8ae-901617e5c908"
        },
        "id": "ehrWjeRjcVX_"
      }
    },
    {
      "cell_type": "markdown",
      "source": [
        "<h2 id=\"quiz\">Cuestionario sobre conjuntos</h2>"
      ],
      "metadata": {
        "application/vnd.databricks.v1+cell": {
          "title": "",
          "showTitle": false,
          "inputWidgets": {},
          "nuid": "26d53c16-c01f-4835-a6e8-ee2ad7ef05bd"
        },
        "id": "rnKQYEKbcVYQ"
      }
    },
    {
      "cell_type": "markdown",
      "source": [
        "Transformar la lista <code>['rap','house','electronic music', 'rap']</code> en un conjunto:"
      ],
      "metadata": {
        "application/vnd.databricks.v1+cell": {
          "title": "",
          "showTitle": false,
          "inputWidgets": {},
          "nuid": "74126b07-e95d-4dc7-956f-2b09e24be04b"
        },
        "id": "PIKieC2FcVYQ"
      }
    },
    {
      "cell_type": "code",
      "source": [
        "# Escribe abajo tu código y presiona Shift+Enter para ejecutarlo\n",
        "set(['rap','house','electronic music', 'rap'])"
      ],
      "metadata": {
        "application/vnd.databricks.v1+cell": {
          "title": "",
          "showTitle": false,
          "inputWidgets": {},
          "nuid": "9423486d-6f4e-4bb5-aeb3-83de0c85361b"
        },
        "id": "ygV2nwdVcVYQ",
        "colab": {
          "base_uri": "https://localhost:8080/"
        },
        "outputId": "58291991-e85b-4bb0-b4f3-6f1b7c3e703e"
      },
      "outputs": [
        {
          "output_type": "execute_result",
          "data": {
            "text/plain": [
              "{'electronic music', 'house', 'rap'}"
            ]
          },
          "metadata": {},
          "execution_count": 193
        }
      ],
      "execution_count": 193
    },
    {
      "cell_type": "markdown",
      "source": [
        "**Respuesta** :\n",
        "\n",
        "Transforma la lista en un conjunto, eliminando duplicados"
      ],
      "metadata": {
        "id": "aVU6b8QEwH-x"
      }
    },
    {
      "cell_type": "markdown",
      "source": [
        "Considera que la lista <code>A = [1, 2, 2, 1]</code> y el conjunto <code>B = set([1, 2, 2, 1])</code> suman <code>sum(A) = sum(B)</code>"
      ],
      "metadata": {
        "application/vnd.databricks.v1+cell": {
          "title": "",
          "showTitle": false,
          "inputWidgets": {},
          "nuid": "ad6e9914-2fda-429f-b732-5490e9490b9a"
        },
        "id": "vLYCFaPVcVYR"
      }
    },
    {
      "cell_type": "code",
      "source": [
        "# Escribe abajo tu código y presiona Shift+Enter para ejecutarlo\n",
        "A = [1, 2, 2, 1]\n",
        "B = set([1, 2, 2, 1])\n",
        "print(\"la suma de A es:\", sum(A))\n",
        "print(\"la suma de B es:\", sum(B))"
      ],
      "metadata": {
        "application/vnd.databricks.v1+cell": {
          "title": "",
          "showTitle": false,
          "inputWidgets": {},
          "nuid": "697fa6ef-f466-4236-9fc6-d423a473c370"
        },
        "id": "pah-wS_RcVYR",
        "colab": {
          "base_uri": "https://localhost:8080/"
        },
        "outputId": "58f48b59-fada-4e5e-88c3-6260cf5ee60c"
      },
      "outputs": [
        {
          "output_type": "stream",
          "name": "stdout",
          "text": [
            "la suma de A es: 6\n",
            "la suma de B es: 3\n"
          ]
        }
      ],
      "execution_count": 194
    },
    {
      "cell_type": "markdown",
      "source": [
        "**Respuesta:**\n",
        "\n",
        "Esto corresponde a que la variable B al ser un conjunto no acepta valores repetidos la suma de estos solo es 3 (1+2) , es por esa razon que las sumas son diferentes. En el caso de A si se suma cada elemento del vector dando como resultado 6 (1+2+2+1)."
      ],
      "metadata": {
        "id": "2Hpay_DmdZo7"
      }
    },
    {
      "cell_type": "markdown",
      "source": [
        "Crea un nuevo conjunto <code>album_set3</code> que sea la unión de <code>album_set1</code> y <code>album_set2</code>:"
      ],
      "metadata": {
        "application/vnd.databricks.v1+cell": {
          "title": "",
          "showTitle": false,
          "inputWidgets": {},
          "nuid": "b83ef1ae-b339-4d9c-ae67-1e13d8da9a61"
        },
        "id": "nw3Sxs4bcVYR"
      }
    },
    {
      "cell_type": "code",
      "source": [
        "# Escribe abajo tu código y presiona Shift+Enter para ejecutarlo\n",
        "\n",
        "album_set1 = set([\"Thriller\", 'AC/DC', 'Back in Black'])\n",
        "album_set2 = set([ \"AC/DC\", \"Back in Black\", \"The Dark Side of the Moon\"])\n",
        "\n",
        "album_set3 = album_set1.union(album_set2)\n",
        "album_set3"
      ],
      "metadata": {
        "application/vnd.databricks.v1+cell": {
          "title": "",
          "showTitle": false,
          "inputWidgets": {},
          "nuid": "f3d7d74d-a639-41f9-9d70-4e7278f24f39"
        },
        "id": "VrXN1HqWcVYR",
        "colab": {
          "base_uri": "https://localhost:8080/"
        },
        "outputId": "8943e829-80f0-416a-beca-6b43c18640da"
      },
      "outputs": [
        {
          "output_type": "execute_result",
          "data": {
            "text/plain": [
              "{'AC/DC', 'Back in Black', 'The Dark Side of the Moon', 'Thriller'}"
            ]
          },
          "metadata": {},
          "execution_count": 195
        }
      ],
      "execution_count": 195
    },
    {
      "cell_type": "markdown",
      "source": [
        "**Respuesta** :\n",
        "\n",
        "Crea un nuevo conjunto a partir del contenido de album_set1 y album_set2"
      ],
      "metadata": {
        "id": "zIpWEjFQwM51"
      }
    },
    {
      "cell_type": "markdown",
      "source": [
        "Averigua si <code>album_set1</code> es un subconjunto de <code>album_set3</code>:"
      ],
      "metadata": {
        "application/vnd.databricks.v1+cell": {
          "title": "",
          "showTitle": false,
          "inputWidgets": {},
          "nuid": "86d9065c-fc26-4b5a-9deb-e7c517c4ac46"
        },
        "id": "Oe-lkWbjcVYS"
      }
    },
    {
      "cell_type": "code",
      "source": [
        "# Escribe abajo tu código y presiona Shift+Enter para ejecutarlo\n",
        "album_set1.issubset(album_set3)"
      ],
      "metadata": {
        "application/vnd.databricks.v1+cell": {
          "title": "",
          "showTitle": false,
          "inputWidgets": {},
          "nuid": "c39979b3-b173-46a3-92a4-4610fbeeed79"
        },
        "id": "58CBXgmicVYS",
        "colab": {
          "base_uri": "https://localhost:8080/"
        },
        "outputId": "adff8c96-b0e3-4a9d-a55a-f23f67b59c09"
      },
      "outputs": [
        {
          "output_type": "execute_result",
          "data": {
            "text/plain": [
              "True"
            ]
          },
          "metadata": {},
          "execution_count": 196
        }
      ],
      "execution_count": 196
    },
    {
      "cell_type": "markdown",
      "source": [
        "**Respuesta** :\n",
        "\n",
        "Muestra que efectivamente album_set1 es un subconjunto de album_set3"
      ],
      "metadata": {
        "id": "geNEH-oLwW9j"
      }
    },
    {
      "cell_type": "markdown",
      "source": [
        "##Diccionarios en Python"
      ],
      "metadata": {
        "application/vnd.databricks.v1+cell": {
          "title": "",
          "showTitle": false,
          "inputWidgets": {},
          "nuid": "ca8a69a5-0b3b-47b8-a7f9-159a320590ba"
        },
        "id": "HLZk3d5KeoVx"
      }
    },
    {
      "cell_type": "markdown",
      "source": [
        "<h2 id=\"quiz\">Cuestionario sobre Diccionarios</h2>"
      ],
      "metadata": {
        "application/vnd.databricks.v1+cell": {
          "title": "",
          "showTitle": false,
          "inputWidgets": {},
          "nuid": "0098716f-2f97-477a-af21-5cefd29b1f56"
        },
        "id": "3sRxb_tfeoWF"
      }
    },
    {
      "cell_type": "markdown",
      "source": [
        "<b>Necesitarás este diccionario para las siguientes dos preguntas:</b>"
      ],
      "metadata": {
        "application/vnd.databricks.v1+cell": {
          "title": "",
          "showTitle": false,
          "inputWidgets": {},
          "nuid": "2f0c5b32-ce02-4963-ba6d-c43ce95feb45"
        },
        "id": "22SDmgqleoWF"
      }
    },
    {
      "cell_type": "code",
      "source": [
        "# Pregunta - Diccionario de ejemplo\n",
        "\n",
        "soundtrack_dic = {\"The Bodyguard\":\"1992\", \"Saturday Night Fever\":\"1977\"}\n",
        "soundtrack_dic"
      ],
      "metadata": {
        "application/vnd.databricks.v1+cell": {
          "title": "",
          "showTitle": false,
          "inputWidgets": {},
          "nuid": "7f3c4221-f50e-4854-a57c-671747557f93"
        },
        "id": "J80sEe2ceoWF",
        "outputId": "d3bedab1-c763-4d93-d34a-2931863842af",
        "colab": {
          "base_uri": "https://localhost:8080/"
        }
      },
      "outputs": [
        {
          "output_type": "execute_result",
          "data": {
            "text/plain": [
              "{'The Bodyguard': '1992', 'Saturday Night Fever': '1977'}"
            ]
          },
          "metadata": {},
          "execution_count": 186
        }
      ],
      "execution_count": 186
    },
    {
      "cell_type": "markdown",
      "source": [
        "a) En el diccionario <code>soundtrack_dict</code>. ¿Cuáles son las llaves?"
      ],
      "metadata": {
        "application/vnd.databricks.v1+cell": {
          "title": "",
          "showTitle": false,
          "inputWidgets": {},
          "nuid": "221d2aad-a7e8-4b95-988d-86669961318f"
        },
        "id": "d9br4UileoWG"
      }
    },
    {
      "cell_type": "code",
      "source": [
        "# Escribe abajo tu código y presiona Shift+Enter para ejecutarlo\n",
        "soundtrack_dic.keys()"
      ],
      "metadata": {
        "application/vnd.databricks.v1+cell": {
          "title": "",
          "showTitle": false,
          "inputWidgets": {},
          "nuid": "bee1d6f8-5933-4079-81c6-ac56fa5e02f7"
        },
        "id": "D-se7a66eoWG",
        "outputId": "22701a7c-62bb-4a68-8108-55977c4d28e3",
        "colab": {
          "base_uri": "https://localhost:8080/"
        }
      },
      "outputs": [
        {
          "output_type": "execute_result",
          "data": {
            "text/plain": [
              "dict_keys(['The Bodyguard', 'Saturday Night Fever'])"
            ]
          },
          "metadata": {},
          "execution_count": 187
        }
      ],
      "execution_count": 187
    },
    {
      "cell_type": "markdown",
      "source": [
        "**Respuesta** :\n",
        "\n",
        "Muestra las llaves del anterior diccionario"
      ],
      "metadata": {
        "id": "PhTS6BR1wmuo"
      }
    },
    {
      "cell_type": "markdown",
      "source": [
        "b) En el diccionario <code>soundtrack_dict</code>. ¿Cuáles son los valores?"
      ],
      "metadata": {
        "application/vnd.databricks.v1+cell": {
          "title": "",
          "showTitle": false,
          "inputWidgets": {},
          "nuid": "e277c4fd-98c0-4582-b8bc-5788994309a9"
        },
        "id": "UgGsmIOfeoWG"
      }
    },
    {
      "cell_type": "code",
      "source": [
        "# Escribe abajo tu código y presiona Shift+Enter para ejecutarlo\n",
        "soundtrack_dic.values()"
      ],
      "metadata": {
        "application/vnd.databricks.v1+cell": {
          "title": "",
          "showTitle": false,
          "inputWidgets": {},
          "nuid": "3ddfe078-6bbe-4c03-b823-2752fa3ad5c6"
        },
        "id": "bvBq3ztjeoWH",
        "outputId": "58942594-f7b3-402f-ffc5-56398bea92f7",
        "colab": {
          "base_uri": "https://localhost:8080/"
        }
      },
      "outputs": [
        {
          "output_type": "execute_result",
          "data": {
            "text/plain": [
              "dict_values(['1992', '1977'])"
            ]
          },
          "metadata": {},
          "execution_count": 188
        }
      ],
      "execution_count": 188
    },
    {
      "cell_type": "markdown",
      "source": [
        "**Respuesta** :\n",
        "\n",
        "Muestra los valores del diccionario"
      ],
      "metadata": {
        "id": "uXGIpkXowqIc"
      }
    },
    {
      "cell_type": "markdown",
      "source": [
        "<b>Necesitarás este diccionario para las siguientes preguntas:</b>"
      ],
      "metadata": {
        "application/vnd.databricks.v1+cell": {
          "title": "",
          "showTitle": false,
          "inputWidgets": {},
          "nuid": "d0517809-da4a-4990-8fc0-7c1b166b6527"
        },
        "id": "c0UWkkPIeoWH"
      }
    },
    {
      "cell_type": "markdown",
      "source": [
        "Los discos <b>Back in Black</b>, <b>The Bodyguard</b> y <b>Thriller</b> poseen el siguiente record de ventas en millones, 50, 50 y 65 respectivamente:"
      ],
      "metadata": {
        "application/vnd.databricks.v1+cell": {
          "title": "",
          "showTitle": false,
          "inputWidgets": {},
          "nuid": "1cd9afbb-9c22-46e8-a6e4-241e77dfeff9"
        },
        "id": "K08SQz5QeoWI"
      }
    },
    {
      "cell_type": "markdown",
      "source": [
        "a) Crea un diccionario <code>album_sales_dict</code> donde las llaves sean el nombre del disco y los valores la cantidad de ventas en millones."
      ],
      "metadata": {
        "application/vnd.databricks.v1+cell": {
          "title": "",
          "showTitle": false,
          "inputWidgets": {},
          "nuid": "b87e1dec-be77-4ae4-adb2-fcdfa4b952c3"
        },
        "id": "lnHB2McceoWI"
      }
    },
    {
      "cell_type": "code",
      "source": [
        "# Escribe abajo tu código y presiona Shift+Enter para ejecutarlo\n",
        "album_sales_dict = {\"Back in Black\":50000000, \"The Bodyguard\":50000000,\"Thriller\":65000000}\n",
        "album_sales_dict"
      ],
      "metadata": {
        "collapsed": true,
        "application/vnd.databricks.v1+cell": {
          "title": "",
          "showTitle": false,
          "inputWidgets": {},
          "nuid": "4e53f4f3-b253-4267-b7d7-a5935789ddfe"
        },
        "id": "EsC4R6x_eoWI",
        "outputId": "32633e46-a234-43d8-c56c-4ee2e778af83",
        "colab": {
          "base_uri": "https://localhost:8080/"
        }
      },
      "outputs": [
        {
          "output_type": "execute_result",
          "data": {
            "text/plain": [
              "{'Back in Black': 50000000, 'The Bodyguard': 50000000, 'Thriller': 65000000}"
            ]
          },
          "metadata": {},
          "execution_count": 189
        }
      ],
      "execution_count": 189
    },
    {
      "cell_type": "markdown",
      "source": [
        "**Respuesta** :\n",
        "\n",
        "Muestra como quedo el diccionario, tanto sus llaves como valores asigandas a estas"
      ],
      "metadata": {
        "id": "yNxQsObWwwLY"
      }
    },
    {
      "cell_type": "markdown",
      "source": [
        "b) Usa el diccionario para encontrar las ventas totales de <b>Thriller</b>:"
      ],
      "metadata": {
        "application/vnd.databricks.v1+cell": {
          "title": "",
          "showTitle": false,
          "inputWidgets": {},
          "nuid": "a92ec325-9a51-4e7e-b91d-731d5bf8599d"
        },
        "id": "n4bBNhxNeoWJ"
      }
    },
    {
      "cell_type": "code",
      "source": [
        "# Escribe abajo tu código y presiona Shift+Enter para ejecutarlo\n",
        "album_sales_dict[\"Thriller\"]"
      ],
      "metadata": {
        "application/vnd.databricks.v1+cell": {
          "title": "",
          "showTitle": false,
          "inputWidgets": {},
          "nuid": "5ee6e52a-feff-44ae-9c56-16b9580e08c8"
        },
        "id": "cggl9Ai3eoWJ",
        "outputId": "1ddaa2fc-70ba-4a00-d101-51798661c5eb",
        "colab": {
          "base_uri": "https://localhost:8080/"
        }
      },
      "outputs": [
        {
          "output_type": "execute_result",
          "data": {
            "text/plain": [
              "65000000"
            ]
          },
          "metadata": {},
          "execution_count": 190
        }
      ],
      "execution_count": 190
    },
    {
      "cell_type": "markdown",
      "source": [
        "**Respuesta** :\n",
        "\n",
        "Muestra el valor asignado a la llave Thriller"
      ],
      "metadata": {
        "id": "R3w4kMvMw27y"
      }
    },
    {
      "cell_type": "markdown",
      "source": [
        "c) Encuentra los nombres de los discos dentro del diccionario mediante el método <code>keys</code>:"
      ],
      "metadata": {
        "application/vnd.databricks.v1+cell": {
          "title": "",
          "showTitle": false,
          "inputWidgets": {},
          "nuid": "b2ad71a4-f523-4322-bd4a-3d8216c84574"
        },
        "id": "WrJVxHm5eoWJ"
      }
    },
    {
      "cell_type": "code",
      "source": [
        "# Escribe abajo tu código y presiona Shift+Enter para ejecutarlo\n",
        "album_sales_dict.keys()"
      ],
      "metadata": {
        "application/vnd.databricks.v1+cell": {
          "title": "",
          "showTitle": false,
          "inputWidgets": {},
          "nuid": "f6de55cb-c76f-4510-92ad-002dce6e9507"
        },
        "id": "SIv_YZuFeoWK",
        "outputId": "bfaf955c-d3ed-45d4-9d07-0ee86db4e955",
        "colab": {
          "base_uri": "https://localhost:8080/"
        }
      },
      "outputs": [
        {
          "output_type": "execute_result",
          "data": {
            "text/plain": [
              "dict_keys(['Back in Black', 'The Bodyguard', 'Thriller'])"
            ]
          },
          "metadata": {},
          "execution_count": 191
        }
      ],
      "execution_count": 191
    },
    {
      "cell_type": "markdown",
      "source": [
        "**Respuesta** :\n",
        "\n",
        "Muestra todas las llaves de album_sales"
      ],
      "metadata": {
        "id": "eFIZplrGw7gI"
      }
    },
    {
      "cell_type": "markdown",
      "source": [
        "d) Encuentra los records de ventas dentro del diccionario mediante el método <code>values</code>:"
      ],
      "metadata": {
        "application/vnd.databricks.v1+cell": {
          "title": "",
          "showTitle": false,
          "inputWidgets": {},
          "nuid": "7666a119-1de4-4499-a376-84860b717e13"
        },
        "id": "GPgqMGfaeoWK"
      }
    },
    {
      "cell_type": "code",
      "source": [
        "# Escribe abajo tu código y presiona Shift+Enter para ejecutarlo\n",
        "album_sales_dict.values()"
      ],
      "metadata": {
        "application/vnd.databricks.v1+cell": {
          "title": "",
          "showTitle": false,
          "inputWidgets": {},
          "nuid": "8f112397-8882-46cc-b310-d8ff50f6e2d0"
        },
        "id": "8QwJHMekeoWK",
        "outputId": "bbb1540f-d4ec-4c76-926c-08f17d474816",
        "colab": {
          "base_uri": "https://localhost:8080/"
        }
      },
      "outputs": [
        {
          "output_type": "execute_result",
          "data": {
            "text/plain": [
              "dict_values([50000000, 50000000, 65000000])"
            ]
          },
          "metadata": {},
          "execution_count": 192
        }
      ],
      "execution_count": 192
    },
    {
      "cell_type": "markdown",
      "source": [
        "**Respuesta** :\n",
        "\n",
        "Muestra todos los valores de album_sales"
      ],
      "metadata": {
        "id": "tcYUxFe8xAX0"
      }
    },
    {
      "cell_type": "markdown",
      "source": [
        "##Condiciones en Python"
      ],
      "metadata": {
        "application/vnd.databricks.v1+cell": {
          "title": "",
          "showTitle": false,
          "inputWidgets": {},
          "nuid": "7e9494e2-9c96-4290-907d-2e1d7508b5ed"
        },
        "id": "dBJ1nTPjgb_f"
      }
    },
    {
      "cell_type": "markdown",
      "source": [
        "<h2 id=\"quiz\">Cuestionario sobre Condiciones</h2>"
      ],
      "metadata": {
        "application/vnd.databricks.v1+cell": {
          "title": "",
          "showTitle": false,
          "inputWidgets": {},
          "nuid": "1703ed23-e01a-4052-b611-41812138d525"
        },
        "id": "VmTShJKAgb_w"
      }
    },
    {
      "cell_type": "markdown",
      "source": [
        "Escribe una declaración if que determine si un disco musical tiene una calificación mayor a 8. Compruébalo utilizando el calificación del disco <b>“Back in Black”</b> el cual tiene un valor de 8.5. Si la condición es verdadera, imprime “\"This album is Amazing!\"”"
      ],
      "metadata": {
        "application/vnd.databricks.v1+cell": {
          "title": "",
          "showTitle": false,
          "inputWidgets": {},
          "nuid": "be8175ec-7ec8-400f-9337-c389181aef0d"
        },
        "id": "kMazHhFvgb_w"
      }
    },
    {
      "cell_type": "code",
      "source": [
        "# Escribe abajo tu código y presiona Shift+Enter para ejecutarlo\n",
        "rating = 8.5\n",
        "if rating > 8:\n",
        "    print (\"This album is Amazing!\")"
      ],
      "metadata": {
        "scrolled": true,
        "application/vnd.databricks.v1+cell": {
          "title": "",
          "showTitle": false,
          "inputWidgets": {},
          "nuid": "ba426d09-449c-4875-8ba8-652e7176c5b0"
        },
        "id": "90N5nbczgb_w",
        "colab": {
          "base_uri": "https://localhost:8080/"
        },
        "outputId": "e471ea8b-b7f6-47f0-b662-80cfc6b1c838"
      },
      "outputs": [
        {
          "output_type": "stream",
          "name": "stdout",
          "text": [
            "This album is Amazing!\n"
          ]
        }
      ],
      "execution_count": 183
    },
    {
      "cell_type": "markdown",
      "source": [
        "**Respuesta** :\n",
        "\n",
        "Muestra que si efectivamente rating es mayor a 8 muestra el mensaje \"This album is Amazing!\""
      ],
      "metadata": {
        "id": "D1TEQ5x7xGZg"
      }
    },
    {
      "cell_type": "markdown",
      "source": [
        "Escribe una declaración if-else que determine lo siguiente. Si la calificación es mayor que 8 imprime “this album is amazing”. Si es menor o igual a 8 que imprima “this album is ok”."
      ],
      "metadata": {
        "application/vnd.databricks.v1+cell": {
          "title": "",
          "showTitle": false,
          "inputWidgets": {},
          "nuid": "b6c1a3c7-309f-4c8c-b730-1bca9702934c"
        },
        "id": "Wzgq_Hwtgb_x"
      }
    },
    {
      "cell_type": "code",
      "source": [
        "# Escribe abajo tu código y presiona Shift+Enter para ejecutarlo\n",
        "rating=8.5\n",
        "if rating > 8:\n",
        "    print (\"this album is amazing\")\n",
        "else:\n",
        "    print (\"this album is ok\")"
      ],
      "metadata": {
        "colab": {
          "base_uri": "https://localhost:8080/"
        },
        "id": "phoHG9FmhDQO",
        "outputId": "bc379e15-684f-44f9-8a00-72c2f37b3e36"
      },
      "execution_count": 184,
      "outputs": [
        {
          "output_type": "stream",
          "name": "stdout",
          "text": [
            "this album is amazing\n"
          ]
        }
      ]
    },
    {
      "cell_type": "markdown",
      "source": [
        "**Respuesta** :\n",
        "\n",
        "Ademas de la anterior condicion planteada, añade que si rating es menor a 8 muestre por pantalla el mensaje \"this album is ok\""
      ],
      "metadata": {
        "id": "3cg_HNNexSin"
      }
    },
    {
      "cell_type": "markdown",
      "source": [
        "Escribe una declaración if que determine si un disco fue lanzado antes de 1980 o en los años 1991 o 1993. Si la condición es verdadera imprime el año de lanzamiento."
      ],
      "metadata": {
        "application/vnd.databricks.v1+cell": {
          "title": "",
          "showTitle": false,
          "inputWidgets": {},
          "nuid": "ada543c5-9767-4c00-a008-bcada350d6e9"
        },
        "id": "L2v2hoZ0gb_x"
      }
    },
    {
      "cell_type": "code",
      "source": [
        "# Escribe abajo tu código y presiona Shift+Enter para ejecutarlo\n",
        "album_year = 1991\n",
        "if album_year < 1980 or album_year == 1991 or album_year == 1993:\n",
        "    print (album_year)"
      ],
      "metadata": {
        "application/vnd.databricks.v1+cell": {
          "title": "",
          "showTitle": false,
          "inputWidgets": {},
          "nuid": "8855a243-d6fb-403c-bb3b-3a5787a1fe08"
        },
        "id": "0vO4tQtUgb_x",
        "colab": {
          "base_uri": "https://localhost:8080/"
        },
        "outputId": "c18388dc-6771-4640-f1fc-50c76de4a234"
      },
      "outputs": [
        {
          "output_type": "stream",
          "name": "stdout",
          "text": [
            "1991\n"
          ]
        }
      ],
      "execution_count": 185
    },
    {
      "cell_type": "markdown",
      "source": [
        "**Respuesta** :\n",
        "\n",
        "Dado el valor 1991 a la variable album year, el codigo identificara si cumple algunas de las condiciones estipuladas (en este caso album_year == 1991 ) y si efectivamente la cumple imprime el año de lanzamiento del album"
      ],
      "metadata": {
        "id": "7xpTooWWxfJb"
      }
    },
    {
      "cell_type": "markdown",
      "source": [
        "##Bucles en Python"
      ],
      "metadata": {
        "application/vnd.databricks.v1+cell": {
          "title": "",
          "showTitle": false,
          "inputWidgets": {},
          "nuid": "b18fe3a8-27b0-48ca-97ca-658fb8af5763"
        },
        "id": "1-mRdwnchzs6"
      }
    },
    {
      "cell_type": "markdown",
      "source": [
        "<h2 id=\"quiz\">Cuestionario sobre Bucles</h2>"
      ],
      "metadata": {
        "application/vnd.databricks.v1+cell": {
          "title": "",
          "showTitle": false,
          "inputWidgets": {},
          "nuid": "13dd742a-1af0-44d0-b0e9-14c1dd99c385"
        },
        "id": "FLTv5MJ8hztD"
      }
    },
    {
      "cell_type": "markdown",
      "source": [
        "Escribe un bucle <code>for</code> que imprima todos los elementos entre <b>-5</b> y <b>5</b> usando la función range."
      ],
      "metadata": {
        "application/vnd.databricks.v1+cell": {
          "title": "",
          "showTitle": false,
          "inputWidgets": {},
          "nuid": "81af31ba-7a10-493e-b23f-9b12105dcaa7"
        },
        "id": "Zphrz6D3hztD"
      }
    },
    {
      "cell_type": "code",
      "source": [
        "# Escribe abajo tu código y presiona Shift+Enter para ejecutarlo\n",
        "for i in range(-5, 6):\n",
        "  print(i)"
      ],
      "metadata": {
        "application/vnd.databricks.v1+cell": {
          "title": "",
          "showTitle": false,
          "inputWidgets": {},
          "nuid": "72142fee-fe84-4eba-a564-289b7e841eb6"
        },
        "id": "ZTXMEywLhztE",
        "outputId": "d5282839-d84f-43f9-9de1-7c6db0effd18",
        "colab": {
          "base_uri": "https://localhost:8080/"
        }
      },
      "outputs": [
        {
          "output_type": "stream",
          "name": "stdout",
          "text": [
            "-5\n",
            "-4\n",
            "-3\n",
            "-2\n",
            "-1\n",
            "0\n",
            "1\n",
            "2\n",
            "3\n",
            "4\n",
            "5\n"
          ]
        }
      ],
      "execution_count": 178
    },
    {
      "cell_type": "markdown",
      "source": [
        "**Respuesta** :\n",
        "\n",
        "Muestra los valores necesarios antes de que el bucle termine"
      ],
      "metadata": {
        "id": "NYvliwSKxzLw"
      }
    },
    {
      "cell_type": "markdown",
      "source": [
        "Imprime los elementos de la siguiente lista:\n",
        "<code>Genres=[ 'rock', 'R&B', 'Soundtrack', 'R&B', 'soul', 'pop']</code>\n",
        "Y asegúrate de seguir las convenciones del lenguaje Python"
      ],
      "metadata": {
        "application/vnd.databricks.v1+cell": {
          "title": "",
          "showTitle": false,
          "inputWidgets": {},
          "nuid": "3da3d294-9b49-405c-8e26-a05da1df7abf"
        },
        "id": "bB6YnrCEhztE"
      }
    },
    {
      "cell_type": "code",
      "source": [
        "# Escribe abajo tu código y presiona Shift+Enter para ejecutarlo\n",
        "Genres=[ 'rock', 'R&B', 'Soundtrack', 'R&B', 'soul', 'pop']\n",
        "for Genre in Genres:\n",
        "    print(Genre)"
      ],
      "metadata": {
        "application/vnd.databricks.v1+cell": {
          "title": "",
          "showTitle": false,
          "inputWidgets": {},
          "nuid": "83783312-04ee-4cc1-a8fa-c4ad3ac3d6c4"
        },
        "id": "VzHIXSVPhztE",
        "outputId": "33821a27-bcbf-4f92-f214-f1d4d719de86",
        "colab": {
          "base_uri": "https://localhost:8080/"
        }
      },
      "outputs": [
        {
          "output_type": "stream",
          "name": "stdout",
          "text": [
            "rock\n",
            "R&B\n",
            "Soundtrack\n",
            "R&B\n",
            "soul\n",
            "pop\n"
          ]
        }
      ],
      "execution_count": 179
    },
    {
      "cell_type": "markdown",
      "source": [
        "**Respuesta** :\n",
        "\n",
        "Muestra mediante un bucle los valores del vector Genres"
      ],
      "metadata": {
        "id": "Teh_aNRyx-NA"
      }
    },
    {
      "cell_type": "markdown",
      "source": [
        "Escribe un bucle for que imprima la siguiente lista: <code>squares=['red', 'yellow', 'green', 'purple', 'blue']</code>"
      ],
      "metadata": {
        "application/vnd.databricks.v1+cell": {
          "title": "",
          "showTitle": false,
          "inputWidgets": {},
          "nuid": "dbe6652e-ecbe-4853-b580-d7a59de1c638"
        },
        "id": "T46-7238hztF"
      }
    },
    {
      "cell_type": "code",
      "source": [
        "# Escribe abajo tu código y presiona Shift+Enter para ejecutarlo\n",
        "squares=['red', 'yellow', 'green', 'purple', 'blue']\n",
        "for square in squares:\n",
        "    print(square)"
      ],
      "metadata": {
        "application/vnd.databricks.v1+cell": {
          "title": "",
          "showTitle": false,
          "inputWidgets": {},
          "nuid": "9cd58c3a-0f2c-498d-8617-f9fcf3f4cade"
        },
        "id": "1KlOcwePhztG",
        "outputId": "ae54fcda-6227-4657-c96c-bebfac504b10",
        "colab": {
          "base_uri": "https://localhost:8080/"
        }
      },
      "outputs": [
        {
          "output_type": "stream",
          "name": "stdout",
          "text": [
            "red\n",
            "yellow\n",
            "green\n",
            "purple\n",
            "blue\n"
          ]
        }
      ],
      "execution_count": 180
    },
    {
      "cell_type": "markdown",
      "source": [
        "**Respuesta** :\n",
        "\n",
        "Muestra mediante un bucle los valores del vector squares"
      ],
      "metadata": {
        "id": "90yUhwTMyEKo"
      }
    },
    {
      "cell_type": "markdown",
      "source": [
        "Escribe un bucle while que muestre los valores de la calificación de las canciones de un disco almacenados en la lista <code>PlayListRatings</code>. Si la calificación es menor a 6, sal del bucle. La lista <code>PlayListRatings</code> esta compuesta por: <code>PlayListRatings = [10, 9.5, 10, 8, 7.5, 5, 10, 10]</code>"
      ],
      "metadata": {
        "application/vnd.databricks.v1+cell": {
          "title": "",
          "showTitle": false,
          "inputWidgets": {},
          "nuid": "70563c85-00cd-44c5-81b2-a9497b12f7ab"
        },
        "id": "q_6gq4HEhztG"
      }
    },
    {
      "cell_type": "code",
      "source": [
        "# Escribe abajo tu código y presiona Shift+Enter para ejecutarlo\n",
        "PlayListRatings = [10, 9.5, 10, 8, 7.5, 5, 10, 10]\n",
        "i = 1\n",
        "Rating = PlayListRatings[0]\n",
        "while(Rating >= 6):\n",
        "    print(Rating)\n",
        "    Rating = PlayListRatings[i]\n",
        "    i = i + 1"
      ],
      "metadata": {
        "collapsed": true,
        "application/vnd.databricks.v1+cell": {
          "title": "",
          "showTitle": false,
          "inputWidgets": {},
          "nuid": "236b2d5d-3544-4c9f-9609-bd1f57362965"
        },
        "id": "3LJPYYb9hztG",
        "outputId": "ad7b3d81-bc13-4147-808a-c93882feb941",
        "colab": {
          "base_uri": "https://localhost:8080/"
        }
      },
      "outputs": [
        {
          "output_type": "stream",
          "name": "stdout",
          "text": [
            "10\n",
            "9.5\n",
            "10\n",
            "8\n",
            "7.5\n"
          ]
        }
      ],
      "execution_count": 181
    },
    {
      "cell_type": "markdown",
      "source": [
        "**Respuesta** :\n",
        "\n",
        "Muestra los ratings no menores a 6, apenas se topa con uno que cumpla que es menor a 6 deja de imprimir y sale del bucle"
      ],
      "metadata": {
        "id": "AuA-TYFvyLzb"
      }
    },
    {
      "cell_type": "markdown",
      "source": [
        "Escribe un bucle while que copie las cadenas <code>'orange'</code> de la lista <code>squares</code> a la lista <code>new_squares</code>. Detente y sal del ciclo si el valor en la lista no es <code>'orange'</code>:"
      ],
      "metadata": {
        "application/vnd.databricks.v1+cell": {
          "title": "",
          "showTitle": false,
          "inputWidgets": {},
          "nuid": "f96aefc1-4d11-4084-a79d-03e337af70aa"
        },
        "id": "wXrmgboIhztH"
      }
    },
    {
      "cell_type": "code",
      "source": [
        "# Escribe abajo tu código y presiona Shift+Enter para ejecutarlo\n",
        "\n",
        "squares = ['orange', 'orange', 'purple', 'blue ', 'orange']\n",
        "new_squares = []\n",
        "i = 0\n",
        "while(squares[i] == 'orange'):\n",
        "    new_squares.append(squares[i])\n",
        "    i = i + 1\n",
        "print (new_squares)"
      ],
      "metadata": {
        "application/vnd.databricks.v1+cell": {
          "title": "",
          "showTitle": false,
          "inputWidgets": {},
          "nuid": "acdff223-9bed-4ac4-b095-fdbbe2a10b0f"
        },
        "id": "tUFqy0m8hztH",
        "outputId": "946e6586-2512-4d9a-d45e-883c0cc9e923",
        "colab": {
          "base_uri": "https://localhost:8080/"
        }
      },
      "outputs": [
        {
          "output_type": "stream",
          "name": "stdout",
          "text": [
            "['orange', 'orange']\n"
          ]
        }
      ],
      "execution_count": 182
    },
    {
      "cell_type": "markdown",
      "source": [
        "**Respuesta** :\n",
        "\n",
        "Imprime la lista de orange antes de toparce con una palabra diferente y salir del ciclo"
      ],
      "metadata": {
        "id": "xgRQ23Dsyi1k"
      }
    },
    {
      "cell_type": "markdown",
      "source": [
        "##Funciones en Python"
      ],
      "metadata": {
        "application/vnd.databricks.v1+cell": {
          "title": "",
          "showTitle": false,
          "inputWidgets": {},
          "nuid": "020bd525-d2c0-4ef8-b192-d7052caacf30"
        },
        "id": "_QcDfXZRiBD2"
      }
    },
    {
      "cell_type": "markdown",
      "source": [
        "<h2>Cuestionario sobre funciones</h2>"
      ],
      "metadata": {
        "application/vnd.databricks.v1+cell": {
          "title": "",
          "showTitle": false,
          "inputWidgets": {},
          "nuid": "851b6283-eb16-46fe-bec7-47b67594b61d"
        },
        "id": "7RqjjvNuiBEH"
      }
    },
    {
      "cell_type": "markdown",
      "source": [
        "Cree una función que divida la primera entrada por la segunda entrada:"
      ],
      "metadata": {
        "application/vnd.databricks.v1+cell": {
          "title": "",
          "showTitle": false,
          "inputWidgets": {},
          "nuid": "68f62614-9c2d-4275-b042-9938d5a1c1f3"
        },
        "id": "cPTEYAHViBEH"
      }
    },
    {
      "cell_type": "code",
      "source": [
        "# Escribe abajo tu código y presiona Shift+Enter para ejecutarlo\n",
        "def div(A, B):\n",
        "    return(A/B)"
      ],
      "metadata": {
        "application/vnd.databricks.v1+cell": {
          "title": "",
          "showTitle": false,
          "inputWidgets": {},
          "nuid": "a0d4890b-a143-4d3a-803f-c07c7e76fea6"
        },
        "id": "XY3vNoPhiBEH"
      },
      "outputs": [],
      "execution_count": 174
    },
    {
      "cell_type": "markdown",
      "source": [
        "**Respuesta** :\n",
        "\n",
        "La funcion recibe variables y arroja la divicion de estas"
      ],
      "metadata": {
        "id": "tMa20VNNyx5D"
      }
    },
    {
      "cell_type": "markdown",
      "source": [
        "Utilice la función <code> con </code> para la siguiente pregunta."
      ],
      "metadata": {
        "application/vnd.databricks.v1+cell": {
          "title": "",
          "showTitle": false,
          "inputWidgets": {},
          "nuid": "fb677ca4-4394-4412-a4b1-30c16b947b43"
        },
        "id": "Z2fMUfR0iBEH"
      }
    },
    {
      "cell_type": "code",
      "source": [
        "# Usa la función con para la siguiente pregunta\n",
        "\n",
        "def con(a, b):\n",
        "    return(a + b)"
      ],
      "metadata": {
        "application/vnd.databricks.v1+cell": {
          "title": "",
          "showTitle": false,
          "inputWidgets": {},
          "nuid": "2057c384-d762-4402-b8ba-1cca7fced9eb"
        },
        "id": "mmg5FCmLiBEH"
      },
      "outputs": [],
      "execution_count": 175
    },
    {
      "cell_type": "markdown",
      "source": [
        "¿Se puede usar la función <code> con </code> que definimos antes para agregar números enteros o cadenas?"
      ],
      "metadata": {
        "application/vnd.databricks.v1+cell": {
          "title": "",
          "showTitle": false,
          "inputWidgets": {},
          "nuid": "7fb77ac6-5c71-41d7-9bdd-ab9753b1e676"
        },
        "id": "Ogv0fxO-iBEI"
      }
    },
    {
      "cell_type": "code",
      "source": [
        "# Escribe abajo tu código y presiona Shift+Enter para ejecutarlo\n",
        "print(con(\"3\",\"5\"))\n",
        "print(con(3,5))"
      ],
      "metadata": {
        "application/vnd.databricks.v1+cell": {
          "title": "",
          "showTitle": false,
          "inputWidgets": {},
          "nuid": "52c8054c-284f-45d5-9065-df7790b35b06"
        },
        "id": "MbUwtyYViBEI",
        "colab": {
          "base_uri": "https://localhost:8080/"
        },
        "outputId": "70a9aa7b-c6ed-40f8-c1e9-ae9d4f37b3f7"
      },
      "outputs": [
        {
          "output_type": "stream",
          "name": "stdout",
          "text": [
            "35\n",
            "8\n"
          ]
        }
      ],
      "execution_count": 176
    },
    {
      "cell_type": "markdown",
      "source": [
        "**Respuesta:**\n",
        "\n",
        "Sirve para ambos casos, sumar numeros enteros o sumar cadenas"
      ],
      "metadata": {
        "id": "vauCtMJukhhK"
      }
    },
    {
      "cell_type": "markdown",
      "source": [
        "¿Se puede usar la función <code> con </code> que definimos antes para concentrar una lista o tupla?"
      ],
      "metadata": {
        "application/vnd.databricks.v1+cell": {
          "title": "",
          "showTitle": false,
          "inputWidgets": {},
          "nuid": "44a25b2a-a8d7-4985-abcc-183fabbb53cd"
        },
        "id": "BMulnUcViBEI"
      }
    },
    {
      "cell_type": "code",
      "source": [
        "# Escribe abajo tu código y presiona Shift+Enter para ejecutarlo\n",
        "con(['A', 1], ['B', 1])"
      ],
      "metadata": {
        "application/vnd.databricks.v1+cell": {
          "title": "",
          "showTitle": false,
          "inputWidgets": {},
          "nuid": "305e27e1-3198-4e15-a316-fae0c4883bd0"
        },
        "id": "E0OgZvMDiBEI",
        "colab": {
          "base_uri": "https://localhost:8080/"
        },
        "outputId": "7bd569ed-6875-434f-9118-a39af6cbf3f4"
      },
      "outputs": [
        {
          "output_type": "execute_result",
          "data": {
            "text/plain": [
              "['A', 1, 'B', 1]"
            ]
          },
          "metadata": {},
          "execution_count": 177
        }
      ],
      "execution_count": 177
    },
    {
      "cell_type": "markdown",
      "source": [
        "**Respuesta** :\n",
        "\n",
        "Tambien sirve para añadir valores a una lista"
      ],
      "metadata": {
        "id": "K7hsBl6Sy7g9"
      }
    },
    {
      "cell_type": "markdown",
      "source": [
        "##Clases y Objetos en Python"
      ],
      "metadata": {
        "application/vnd.databricks.v1+cell": {
          "title": "",
          "showTitle": false,
          "inputWidgets": {},
          "nuid": "6eb782eb-da69-4439-9143-6aae97435873"
        },
        "id": "m_EN4JhSYjzs"
      }
    },
    {
      "cell_type": "markdown",
      "source": [
        "**Actividad a realizar:**\n",
        "\n",
        "\n",
        "La clase matplotlib.patches.Ellipse, permite dibujar elipses desde [matplotlib](https://matplotlib.org/stable/api/_as_gen/matplotlib.patches.Ellipse.html). La clase se importa de la siguiente manera:\n",
        "\n",
        "*from matplotlib.patchs import Ellipse*\n",
        "\n",
        "Se puede dibujar entonces cualquier elipse, dando los argumentos:\n",
        "\n",
        "plt.gca().add_patch(Ellipse(xy, width, height, facecolor = color, edgecolor = edgecolor))\n",
        "\n",
        "Se requiere crear una clase Elipse, la cual el constructor sea con valores iniciales cualesquiera. Adicionalmente, la clase debe tener los siguientes métodos:\n",
        "\n",
        "1.- Cambiar el ancho\n",
        "\n",
        "2.- Cambiar el alto\n",
        "\n",
        "3.- Cambiar el color de relleno\n",
        "\n",
        "4.- Cambiar el color de borde\n",
        "\n",
        "5.- Dibujar"
      ],
      "metadata": {
        "id": "H8wCpvq-zsF0"
      }
    },
    {
      "cell_type": "code",
      "source": [
        "import matplotlib.pyplot as plt\n",
        "%matplotlib inline"
      ],
      "metadata": {
        "id": "a0mL50gLk78Q"
      },
      "execution_count": 171,
      "outputs": []
    },
    {
      "cell_type": "code",
      "source": [
        "class Elipse:\n",
        "    def __init__(self, xy=(0, 0), width=10, height=5, facecolor='blue', edgecolor='black'):\n",
        "        self.xy = xy\n",
        "        self.width = width\n",
        "        self.height = height\n",
        "        self.facecolor = facecolor\n",
        "        self.edgecolor = edgecolor\n",
        "\n",
        "    def cambiar_ancho(self, width):\n",
        "        self.width = width\n",
        "\n",
        "    def cambiar_alto(self, height):\n",
        "        self.height = height\n",
        "\n",
        "    def cambiar_color_relleno(self, facecolor):\n",
        "        self.facecolor = facecolor\n",
        "\n",
        "    def cambiar_color_borde(self, edgecolor):\n",
        "        self.edgecolor = edgecolor\n",
        "\n",
        "    def dibujar(self):\n",
        "        fig, ax = plt.subplots()\n",
        "        elipse = Ellipse(xy=self.xy, width=self.width, height=self.height, facecolor=self.facecolor, edgecolor=self.edgecolor)\n",
        "        ax.add_patch(elipse)\n",
        "\n",
        "        ax.set_xlim(self.xy[0] - self.width, self.xy[0] + self.width)\n",
        "        ax.set_ylim(self.xy[1] - self.height, self.xy[1] + self.height)\n",
        "        ax.set_aspect('equal')\n",
        "\n",
        "        plt.grid(True)\n",
        "        plt.show()"
      ],
      "metadata": {
        "id": "cI2qTE4GlI-C"
      },
      "execution_count": 172,
      "outputs": []
    },
    {
      "cell_type": "markdown",
      "source": [
        "**Ejemplo de uso de la funcion Elipse**"
      ],
      "metadata": {
        "id": "NB0shFcyntcR"
      }
    },
    {
      "cell_type": "code",
      "source": [
        "mi_elipse = Elipse(xy=(50, 50), width=40, height=20, facecolor='green', edgecolor='red')\n",
        "mi_elipse.dibujar()\n",
        "\n",
        "mi_elipse.cambiar_ancho(100)\n",
        "mi_elipse.cambiar_alto(5)\n",
        "mi_elipse.cambiar_color_relleno('yellow')\n",
        "mi_elipse.cambiar_color_borde('blue')\n",
        "mi_elipse.dibujar()"
      ],
      "metadata": {
        "colab": {
          "base_uri": "https://localhost:8080/",
          "height": 0
        },
        "id": "2t4p8MxtnpiL",
        "outputId": "9675612a-a45a-46f4-8fab-0ace7a7baa88"
      },
      "execution_count": 173,
      "outputs": [
        {
          "output_type": "display_data",
          "data": {
            "text/plain": [
              "<Figure size 640x480 with 1 Axes>"
            ],
            "image/png": "[encoded data removed]"
          },
          "metadata": {}
        },
        {
          "output_type": "display_data",
          "data": {
            "text/plain": [
              "<Figure size 640x480 with 1 Axes>"
            ],
            "image/png": "[encoded data removed]"
          },
          "metadata": {}
        }
      ]
    },
    {
      "cell_type": "markdown",
      "source": [
        "**Respuesta** :\n",
        "\n",
        "Se utiliza la funcion como ejemplo para mostrar su funcionamiento, ademas de porder cambiar valores"
      ],
      "metadata": {
        "id": "UgTdQjbGzExU"
      }
    },
    {
      "cell_type": "markdown",
      "source": [
        "## Bono"
      ],
      "metadata": {
        "id": "xBE0k7wyi7SF"
      }
    },
    {
      "cell_type": "markdown",
      "metadata": {
        "id": "4oLoyHCjqtvg"
      },
      "source": [
        " CALENTAMIENTO:"
      ]
    },
    {
      "cell_type": "markdown",
      "metadata": {
        "id": "i-uLqm-1qtvh"
      },
      "source": [
        "#### MENOR DE DOS PARES: Escriba una función que devuelva el menor de dos números dados *si* ambos números son pares, pero devuelva el mayor si uno o ambos números son impares\n",
        "    lesser_of_two_evens(2,4) --> 2\n",
        "    lesser_of_two_evens(2,5) --> 5"
      ]
    },
    {
      "cell_type": "code",
      "execution_count": 144,
      "metadata": {
        "id": "eJzqgiOIqtvh"
      },
      "outputs": [],
      "source": [
        "def lesser_of_two_evens(a, b):\n",
        "    if a % 2 == 0 and b % 2 == 0:\n",
        "        return min(a, b)\n",
        "    else:\n",
        "        return max(a, b)"
      ]
    },
    {
      "cell_type": "code",
      "execution_count": 145,
      "metadata": {
        "outputId": "6d07a2d7-a3f0-45c1-b2ff-950beddfd45f",
        "colab": {
          "base_uri": "https://localhost:8080/"
        },
        "id": "eVcj_TNBqtvh"
      },
      "outputs": [
        {
          "output_type": "execute_result",
          "data": {
            "text/plain": [
              "2"
            ]
          },
          "metadata": {},
          "execution_count": 145
        }
      ],
      "source": [
        "# Revisión\n",
        "lesser_of_two_evens(2,4)"
      ]
    },
    {
      "cell_type": "markdown",
      "source": [
        "**Respuesta** :\n",
        "\n",
        "Ambos son pares y el menor es 2"
      ],
      "metadata": {
        "id": "Ws8x0fTbz-m9"
      }
    },
    {
      "cell_type": "code",
      "execution_count": 146,
      "metadata": {
        "outputId": "b3b98ffd-c6f3-436a-da41-2f60257e8a7e",
        "colab": {
          "base_uri": "https://localhost:8080/"
        },
        "id": "oPAM9YVGqtvi"
      },
      "outputs": [
        {
          "output_type": "execute_result",
          "data": {
            "text/plain": [
              "5"
            ]
          },
          "metadata": {},
          "execution_count": 146
        }
      ],
      "source": [
        "# Revisión\n",
        "lesser_of_two_evens(2,5)"
      ]
    },
    {
      "cell_type": "markdown",
      "source": [
        "**Respuesta** :\n",
        "\n",
        "5 es impar por lo tanto devuelve el mayor que es el mismo 5"
      ],
      "metadata": {
        "id": "rP1BfEVT0Bsl"
      }
    },
    {
      "cell_type": "markdown",
      "metadata": {
        "id": "pzzZzp7Rqtvi"
      },
      "source": [
        "#### GALLETAS DE ANIMALES: Escribir una función que toma una cadena de dos palabras y devuelve True si ambas palabras comienzan con la misma letra\n",
        "    animal_crackers('Ciudad Calor') --> True\n",
        "    animal_crackers('Lugar Frio') --> False"
      ]
    },
    {
      "cell_type": "code",
      "execution_count": 147,
      "metadata": {
        "id": "nFrMMjV8qtvi"
      },
      "outputs": [],
      "source": [
        "def animal_crackers(text):\n",
        "    words = text.split()\n",
        "    if len(words) != 2:\n",
        "        return False\n",
        "    return words[0][0].lower() == words[1][0].lower()"
      ]
    },
    {
      "cell_type": "code",
      "execution_count": 148,
      "metadata": {
        "outputId": "45ea3d28-c6ec-41fa-b325-45b9cbf933d2",
        "colab": {
          "base_uri": "https://localhost:8080/"
        },
        "id": "-LXb-Z1kqtvi"
      },
      "outputs": [
        {
          "output_type": "execute_result",
          "data": {
            "text/plain": [
              "True"
            ]
          },
          "metadata": {},
          "execution_count": 148
        }
      ],
      "source": [
        "# Revisión\n",
        "animal_crackers('Ciudad Calor')"
      ]
    },
    {
      "cell_type": "markdown",
      "source": [
        "**Respuesta** :\n",
        "\n",
        "Ciudad y calor comienzan con C"
      ],
      "metadata": {
        "id": "Ff5IR5ly0Giy"
      }
    },
    {
      "cell_type": "code",
      "execution_count": 149,
      "metadata": {
        "outputId": "35f3257b-6f16-4398-a41f-820b9489ce89",
        "colab": {
          "base_uri": "https://localhost:8080/"
        },
        "id": "z1LpaiA0qtvj"
      },
      "outputs": [
        {
          "output_type": "execute_result",
          "data": {
            "text/plain": [
              "False"
            ]
          },
          "metadata": {},
          "execution_count": 149
        }
      ],
      "source": [
        "# Revisión\n",
        "animal_crackers('Lugar Frio')"
      ]
    },
    {
      "cell_type": "markdown",
      "source": [
        "**Respuesta** :\n",
        "\n",
        "Lugar y calor no comienzan con la misma letra"
      ],
      "metadata": {
        "id": "mH5X05ou0KBQ"
      }
    },
    {
      "cell_type": "markdown",
      "metadata": {
        "id": "gYJ8qsnCqtvj"
      },
      "source": [
        "#### HACE VEINTE: dados dos enteros, devuelve True si la suma de los enteros es 20 o si uno de los enteros es 20. De lo contrario, devuelve False\n",
        "\n",
        "    makes_twenty(20,10) --> True\n",
        "    makes_twenty(12,8) --> True\n",
        "    makes_twenty(2,3) --> False"
      ]
    },
    {
      "cell_type": "code",
      "execution_count": 150,
      "metadata": {
        "id": "eotaqR9Iqtvj"
      },
      "outputs": [],
      "source": [
        "def makes_twenty(n1, n2):\n",
        "    return (n1 + n2 == 20) or (n1 == 20) or (n2 == 20)"
      ]
    },
    {
      "cell_type": "code",
      "execution_count": 151,
      "metadata": {
        "outputId": "6856d6d6-bc5a-4517-e3bd-3863945202a3",
        "colab": {
          "base_uri": "https://localhost:8080/"
        },
        "id": "afArcUEpqtvj"
      },
      "outputs": [
        {
          "output_type": "execute_result",
          "data": {
            "text/plain": [
              "True"
            ]
          },
          "metadata": {},
          "execution_count": 151
        }
      ],
      "source": [
        "# Revisión\n",
        "makes_twenty(20,10)"
      ]
    },
    {
      "cell_type": "markdown",
      "source": [
        "**Respuesta** :\n",
        "\n",
        "hay un 20 entre las variables"
      ],
      "metadata": {
        "id": "4_DnSNSw0OUW"
      }
    },
    {
      "cell_type": "code",
      "execution_count": 152,
      "metadata": {
        "outputId": "5a2b054c-ab5b-4d99-d8f5-d538d315db19",
        "colab": {
          "base_uri": "https://localhost:8080/"
        },
        "id": "KUPpxsWbqtvk"
      },
      "outputs": [
        {
          "output_type": "execute_result",
          "data": {
            "text/plain": [
              "False"
            ]
          },
          "metadata": {},
          "execution_count": 152
        }
      ],
      "source": [
        "# Revisión\n",
        "makes_twenty(2,3)"
      ]
    },
    {
      "cell_type": "markdown",
      "source": [
        "**Respuesta** :\n",
        "\n",
        "La suma de ambos no alcanza a ser 20, ademas de ninguno ser 20"
      ],
      "metadata": {
        "id": "N3xIv7oE0T5E"
      }
    },
    {
      "cell_type": "code",
      "execution_count": 153,
      "metadata": {
        "outputId": "977a8a61-cd8c-4fc8-fbdd-1e60252437eb",
        "colab": {
          "base_uri": "https://localhost:8080/"
        },
        "id": "8LCREGyKqtvk"
      },
      "outputs": [
        {
          "output_type": "execute_result",
          "data": {
            "text/plain": [
              "True"
            ]
          },
          "metadata": {},
          "execution_count": 153
        }
      ],
      "source": [
        "makes_twenty(12,8)"
      ]
    },
    {
      "cell_type": "markdown",
      "source": [
        "**Respuesta** :\n",
        "\n",
        "a persar de que ninguno es 20, la suma de los valores si es 20"
      ],
      "metadata": {
        "id": "MpZr3OTL0ZmY"
      }
    },
    {
      "cell_type": "markdown",
      "metadata": {
        "id": "gWSS33GBqtvk"
      },
      "source": [
        " Nivel 1"
      ]
    },
    {
      "cell_type": "markdown",
      "metadata": {
        "id": "g6eFfIuKqtvk"
      },
      "source": [
        "#### MAYÚSCULAS: Escribir una función que haga mayúscula la primera y cuarta letra de una cadena de texto\n",
        "     \n",
        "    old_macdonald('macdonald') --> MacDonald\n",
        "    \n",
        "Note: `'macdonald'.capitalize()` returns `'Macdonald'`"
      ]
    },
    {
      "cell_type": "code",
      "execution_count": 154,
      "metadata": {
        "id": "OIbk9e7Qqtvl"
      },
      "outputs": [],
      "source": [
        "def old_macdonald(name):\n",
        "    if len(name) < 4:\n",
        "        return name.capitalize()\n",
        "    else:\n",
        "        return name[:1].upper() + name[1:3] + name[3:4].upper() + name[4:]"
      ]
    },
    {
      "cell_type": "code",
      "execution_count": 155,
      "metadata": {
        "outputId": "2b1442d6-f699-495e-e0e6-6a0874b0f8e2",
        "colab": {
          "base_uri": "https://localhost:8080/",
          "height": 36
        },
        "id": "2OvB3wJAqtvl"
      },
      "outputs": [
        {
          "output_type": "execute_result",
          "data": {
            "text/plain": [
              "'MacDonald'"
            ],
            "application/vnd.google.colaboratory.intrinsic+json": {
              "type": "string"
            }
          },
          "metadata": {},
          "execution_count": 155
        }
      ],
      "source": [
        "# Check\n",
        "old_macdonald('macdonald')"
      ]
    },
    {
      "cell_type": "markdown",
      "source": [
        "**Respuesta** :\n",
        "\n",
        "Siendo la primera letra M y la cuarta D"
      ],
      "metadata": {
        "id": "HMJzQWYd0muC"
      }
    },
    {
      "cell_type": "markdown",
      "metadata": {
        "id": "PPBLbXqBqtvl"
      },
      "source": [
        "#### REVERSA: Dada una oración, retornar la misma oración pero en reversa\n",
        "\n",
        "    master_yoda('I am home') --> 'home am I'\n",
        "    master_yoda('We are ready') --> 'ready are We'\n",
        "    \n",
        "Note: Revisar método .join()\n",
        "\n",
        "    >>> \"--\".join(['a','b','c'])\n",
        "    >>> 'a--b--c'\n",
        "\n",
        "Resultado de .join():\n",
        "\n",
        "    >>> \" \".join(['Hello','world'])\n",
        "    >>> \"Hello world\""
      ]
    },
    {
      "cell_type": "code",
      "execution_count": 156,
      "metadata": {
        "id": "A1bOf_lUqtvl"
      },
      "outputs": [],
      "source": [
        "def master_yoda(text):\n",
        "    words = text.split()\n",
        "    reversed_words = words[::-1]\n",
        "    reversed_sentence = ' '.join(reversed_words)\n",
        "    return reversed_sentence"
      ]
    },
    {
      "cell_type": "markdown",
      "source": [
        "**Respuesta** :\n",
        "\n",
        "Divide la oracion en palabras (partes), invierte el orden, las une en una sola u devuelve el resultado"
      ],
      "metadata": {
        "id": "mWtAKdfM0zC2"
      }
    },
    {
      "cell_type": "code",
      "execution_count": 157,
      "metadata": {
        "id": "DzgFwEcrqtvl"
      },
      "outputs": [],
      "source": [
        "######"
      ]
    },
    {
      "cell_type": "code",
      "execution_count": 158,
      "metadata": {
        "outputId": "082be0ac-a943-44d1-c25c-c163528c16de",
        "colab": {
          "base_uri": "https://localhost:8080/",
          "height": 36
        },
        "id": "zSn4wu0gqtvm"
      },
      "outputs": [
        {
          "output_type": "execute_result",
          "data": {
            "text/plain": [
              "'home am I'"
            ],
            "application/vnd.google.colaboratory.intrinsic+json": {
              "type": "string"
            }
          },
          "metadata": {},
          "execution_count": 158
        }
      ],
      "source": [
        "# Revisión\n",
        "master_yoda('I am home')"
      ]
    },
    {
      "cell_type": "markdown",
      "source": [
        "**Respuesta** :\n",
        "\n",
        "El codigo efectivamente invirtio el orden de \"I\" y \"home\""
      ],
      "metadata": {
        "id": "Iqec3xVc0-Yf"
      }
    },
    {
      "cell_type": "code",
      "execution_count": 159,
      "metadata": {
        "outputId": "fcbd3863-e9cc-4e1e-bc25-64b4484bdfd5",
        "colab": {
          "base_uri": "https://localhost:8080/",
          "height": 36
        },
        "id": "Hu1ns_xeqtvm"
      },
      "outputs": [
        {
          "output_type": "execute_result",
          "data": {
            "text/plain": [
              "'ready are We'"
            ],
            "application/vnd.google.colaboratory.intrinsic+json": {
              "type": "string"
            }
          },
          "metadata": {},
          "execution_count": 159
        }
      ],
      "source": [
        "# Revisión\n",
        "master_yoda('We are ready')"
      ]
    },
    {
      "cell_type": "markdown",
      "source": [
        "**Respuesta** :\n",
        "\n",
        "El codigo efectivamente invirtio el orden de \"We\" y \"ready\""
      ],
      "metadata": {
        "id": "DZ3YEboY1Hxx"
      }
    },
    {
      "cell_type": "markdown",
      "metadata": {
        "id": "UnDwD49Gqtvm"
      },
      "source": [
        " Nivel 2"
      ]
    },
    {
      "cell_type": "markdown",
      "metadata": {
        "id": "ikQAN5E0qtvm"
      },
      "source": [
        "#### PROBLEMA 33:\n",
        "\n",
        "Dada una lista de enteros, retornar True si el arreglo tinene un  3  seguido por un  3 .\n",
        "\n",
        "    has_33([1, 3, 3]) → True\n",
        "    has_33([1, 3, 1, 3]) → False\n",
        "    has_33([3, 1, 3]) → False"
      ]
    },
    {
      "cell_type": "code",
      "execution_count": 160,
      "metadata": {
        "id": "B0BZwHE6qtvn"
      },
      "outputs": [],
      "source": [
        "def has_33(nums):\n",
        "    for i in range(len(nums) - 1):\n",
        "        if nums[i] == 3 and nums[i + 1] == 3:\n",
        "            return True\n",
        "    return False"
      ]
    },
    {
      "cell_type": "code",
      "execution_count": 161,
      "metadata": {
        "outputId": "862addcf-b36d-4d53-eaa0-3cac4ddc9727",
        "colab": {
          "base_uri": "https://localhost:8080/"
        },
        "id": "dWHQVg-Uqtvn"
      },
      "outputs": [
        {
          "output_type": "execute_result",
          "data": {
            "text/plain": [
              "True"
            ]
          },
          "metadata": {},
          "execution_count": 161
        }
      ],
      "source": [
        "# Revisión\n",
        "has_33([1, 3, 3])"
      ]
    },
    {
      "cell_type": "markdown",
      "source": [
        "**Respuesta** :\n",
        "\n",
        "Cumple con la condicion de que hay un 3 al lado de otro"
      ],
      "metadata": {
        "id": "__1gWSUx1QmD"
      }
    },
    {
      "cell_type": "code",
      "execution_count": 162,
      "metadata": {
        "outputId": "bb97c7e6-23e4-418a-fc36-c73a86ebee5a",
        "colab": {
          "base_uri": "https://localhost:8080/"
        },
        "id": "FnWiaJGpqtvn"
      },
      "outputs": [
        {
          "output_type": "execute_result",
          "data": {
            "text/plain": [
              "False"
            ]
          },
          "metadata": {},
          "execution_count": 162
        }
      ],
      "source": [
        "# Revisión\n",
        "has_33([1, 3, 1, 3])"
      ]
    },
    {
      "cell_type": "markdown",
      "source": [
        "**Respuesta** :\n",
        "\n",
        "No cumple devido a que no hay numeros 3 seguidos"
      ],
      "metadata": {
        "id": "M5f0v3Vl1VY9"
      }
    },
    {
      "cell_type": "code",
      "execution_count": 163,
      "metadata": {
        "outputId": "3e06906f-dec3-4ecf-e448-f6e261f25986",
        "colab": {
          "base_uri": "https://localhost:8080/"
        },
        "id": "vUPoigeyqtvn"
      },
      "outputs": [
        {
          "output_type": "execute_result",
          "data": {
            "text/plain": [
              "False"
            ]
          },
          "metadata": {},
          "execution_count": 163
        }
      ],
      "source": [
        "# Revisión\n",
        "has_33([3, 1, 3])"
      ]
    },
    {
      "cell_type": "markdown",
      "source": [
        "**Respuesta** :\n",
        "\n",
        "No cumple devido a que no hay numeros 3 seguidos"
      ],
      "metadata": {
        "id": "1sM9bfzf1Zz6"
      }
    },
    {
      "cell_type": "markdown",
      "metadata": {
        "id": "JOudEn-0qtvo"
      },
      "source": [
        "#### REPLICADOR: Dada una cadena, devuelve una cadena donde por cada carácter en el original hay tres caracteres REPETIDOS\n",
        "    paper_doll('Hello') --> 'HHHeeellllllooo'\n",
        "    paper_doll('Mississippi') --> 'MMMiiissssssiiippppppiii'"
      ]
    },
    {
      "cell_type": "code",
      "execution_count": 164,
      "metadata": {
        "id": "mMBu-3i1qtvo"
      },
      "outputs": [],
      "source": [
        "def paper_doll(text):\n",
        "    return ''.join(char * 3 for char in text)"
      ]
    },
    {
      "cell_type": "markdown",
      "source": [
        "**Respuesta** :\n",
        "\n",
        "Crea una nueva cadena donde cumple la condicion de que cada caracter sea repetido 3 veces"
      ],
      "metadata": {
        "id": "63ZITOeb1ppk"
      }
    },
    {
      "cell_type": "code",
      "execution_count": 165,
      "metadata": {
        "outputId": "6f2ff36e-f1ed-4949-8087-572e26f3bbc7",
        "colab": {
          "base_uri": "https://localhost:8080/",
          "height": 36
        },
        "id": "YD4WvoL-qtvo"
      },
      "outputs": [
        {
          "output_type": "execute_result",
          "data": {
            "text/plain": [
              "'HHHeeellllllooo'"
            ],
            "application/vnd.google.colaboratory.intrinsic+json": {
              "type": "string"
            }
          },
          "metadata": {},
          "execution_count": 165
        }
      ],
      "source": [
        "# Check\n",
        "paper_doll('Hello')"
      ]
    },
    {
      "cell_type": "markdown",
      "source": [
        "**Respuesta** :\n",
        "\n",
        "Hay 3 H, 3 e , 6 l (3 de la primera l y 3 de la segunda) y 3 o"
      ],
      "metadata": {
        "id": "i0JHFZ6T1xk3"
      }
    },
    {
      "cell_type": "code",
      "execution_count": 166,
      "metadata": {
        "outputId": "9fcdb1a7-7f1c-4821-c59e-195b9cbda96b",
        "colab": {
          "base_uri": "https://localhost:8080/",
          "height": 36
        },
        "id": "PddOsosEqtvo"
      },
      "outputs": [
        {
          "output_type": "execute_result",
          "data": {
            "text/plain": [
              "'MMMiiissssssiiissssssiiippppppiii'"
            ],
            "application/vnd.google.colaboratory.intrinsic+json": {
              "type": "string"
            }
          },
          "metadata": {},
          "execution_count": 166
        }
      ],
      "source": [
        "# Check\n",
        "paper_doll('Mississippi')"
      ]
    },
    {
      "cell_type": "markdown",
      "source": [
        "**Respuesta** :\n",
        "\n",
        "Hay 3 M , 3 i, 6 s (3 de la primera s y 3 de la segunda), 3 i ,6 s (3 de la primera s y 3 de la segunda), 6 p (3 de la primera p y 3 de la segunda) y 3 i"
      ],
      "metadata": {
        "id": "71Z0frS718t9"
      }
    },
    {
      "cell_type": "markdown",
      "metadata": {
        "id": "v1YA3-Tpqtvo"
      },
      "source": [
        "#### BLACKJACK: Dados tres enteros entre 1 y 11, si su suma es menor o igual a 21, devuelve su suma. Si su suma excede 21 *y* hay un once, reduce la suma total en 10. Finalmente, si la suma (incluso después del ajuste) excede 21, devuelve 'BUST'\n",
        "    blackjack(5,6,7) --> 18\n",
        "    blackjack(9,9,9) --> 'BUST'\n",
        "    blackjack(9,9,11) --> 19"
      ]
    },
    {
      "cell_type": "code",
      "execution_count": 167,
      "metadata": {
        "id": "arMpucuRqtvp"
      },
      "outputs": [],
      "source": [
        "def blackjack(a, b, c):\n",
        "    total = a + b + c\n",
        "    if total <= 21:\n",
        "        return total\n",
        "    if 11 in (a, b, c):\n",
        "        total -= 10\n",
        "    if total > 21:\n",
        "        return 'BUST'\n",
        "\n",
        "    return total"
      ]
    },
    {
      "cell_type": "code",
      "execution_count": 168,
      "metadata": {
        "outputId": "fcf3acf8-e983-4692-910b-0b9e2ab1e656",
        "colab": {
          "base_uri": "https://localhost:8080/"
        },
        "id": "gb-zxZk0qtvp"
      },
      "outputs": [
        {
          "output_type": "execute_result",
          "data": {
            "text/plain": [
              "18"
            ]
          },
          "metadata": {},
          "execution_count": 168
        }
      ],
      "source": [
        "# Revisión\n",
        "blackjack(5,6,7)"
      ]
    },
    {
      "cell_type": "markdown",
      "source": [
        "**Respuesta** :\n",
        "\n",
        "Retorna el numero, debido a que la suma no alcanza a ser 21 y no hay ningun 11"
      ],
      "metadata": {
        "id": "VHcr94F-2bMk"
      }
    },
    {
      "cell_type": "code",
      "execution_count": 169,
      "metadata": {
        "outputId": "22f631d6-6865-48b8-bebe-0cb2dfc8dacf",
        "colab": {
          "base_uri": "https://localhost:8080/",
          "height": 36
        },
        "id": "zWkjc07-qtvp"
      },
      "outputs": [
        {
          "output_type": "execute_result",
          "data": {
            "text/plain": [
              "'BUST'"
            ],
            "application/vnd.google.colaboratory.intrinsic+json": {
              "type": "string"
            }
          },
          "metadata": {},
          "execution_count": 169
        }
      ],
      "source": [
        "# Revisión\n",
        "blackjack(9,9,9)"
      ]
    },
    {
      "cell_type": "markdown",
      "source": [
        "**Respuesta** :\n",
        "\n",
        "Arroja Bust devido a aque la suma de los valores es mayor a 21 (27 en este caso)"
      ],
      "metadata": {
        "id": "-GE5TKSX2p8K"
      }
    },
    {
      "cell_type": "code",
      "execution_count": 170,
      "metadata": {
        "outputId": "d3fbedcb-7942-4a7f-c486-63ed103e7bad",
        "colab": {
          "base_uri": "https://localhost:8080/"
        },
        "id": "PynyeiSXqtvp"
      },
      "outputs": [
        {
          "output_type": "execute_result",
          "data": {
            "text/plain": [
              "19"
            ]
          },
          "metadata": {},
          "execution_count": 170
        }
      ],
      "source": [
        "# Revisión\n",
        "blackjack(9,9,11)"
      ]
    },
    {
      "cell_type": "markdown",
      "source": [
        "**Respuesta** :\n",
        "\n",
        "Restorna el numero de la suma de las variables menos 10 porque dentro de los valores hay un 11; es decir que la suma arroja 29 pero al poseer un 11 se le restan once y queda el numero por pantalla (19)"
      ],
      "metadata": {
        "id": "bY671OwX21Ya"
      }
    }
  ],
  "metadata": {
    "kernelspec": {
      "display_name": "Python 3",
      "language": "python",
      "name": "python3"
    },
    "language_info": {
      "mimetype": "text/x-python",
      "name": "python",
      "pygments_lexer": "ipython3",
      "codemirror_mode": {
        "name": "ipython",
        "version": 3
      },
      "version": "3.8.3",
      "nbconvert_exporter": "python",
      "file_extension": ".py"
    },
    "application/vnd.databricks.v1+notebook": {
      "notebookName": "01-Python-Cadenas",
      "dashboards": [],
      "notebookMetadata": {
        "pythonIndentUnit": 2
      },
      "language": "python",
      "widgets": {},
      "notebookOrigID": 3377342904741170
    },
    "colab": {
      "provenance": [],
      "collapsed_sections": [
        "BnX08ybyTOMf",
        "aCsRYqz7Y5Qq",
        "li-MHQsKaxux",
        "ehrWjeRjcVX_",
        "HLZk3d5KeoVx",
        "dBJ1nTPjgb_f",
        "1-mRdwnchzs6",
        "_QcDfXZRiBD2",
        "m_EN4JhSYjzs",
        "xBE0k7wyi7SF"
      ]
    }
  },
  "nbformat": 4,
  "nbformat_minor": 0
}